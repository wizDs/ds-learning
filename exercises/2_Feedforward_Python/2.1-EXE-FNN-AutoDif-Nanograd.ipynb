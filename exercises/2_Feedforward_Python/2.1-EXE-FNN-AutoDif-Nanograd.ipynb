{
 "cells": [
  {
   "cell_type": "markdown",
   "metadata": {
    "id": "HAva8TnYFtFu"
   },
   "source": [
    "# Contents and why we need this lab\n",
    "\n",
    "This lab is about implementing neural networks yourself before we start using other frameworks that hide some of the computation from you. It builds on the first lab, where you derived the equations for neural network forward and backward propagation and gradient descent parameter updates. \n",
    "\n",
    "All the frameworks for deep learning you will meet from now on use automatic differentiation (autodiff), so you do not have to code the backward step yourself. In this version of this lab, you will develop your own autodif implementation. We also have an optional [version](https://github.com/DeepLearningDTU/02456-deep-learning-with-PyTorch/blob/master/2_Feedforward_Python/2.2-FNN-NumPy.ipynb) of this lab where you have to code the backward pass explicitly in Numpy."
   ]
  },
  {
   "cell_type": "markdown",
   "metadata": {
    "id": "sCa7HzwpFtFy"
   },
   "source": [
    "# External sources of information\n",
    "\n",
    "1. Jupyter notebook. You can find more information about Jupyter notebooks [here](https://jupyter.org/). It will come as part of the [Anaconda](https://www.anaconda.com/) Python installation. \n",
    "2. [NumPy](https://numpy.org/). Part of Anaconda distribution.  If you already know how to program, most things about Python and NumPy can be found with Google searches.\n",
    "3. [Nanograd](https://github.com/rasmusbergpalm/nanograd) is a minimalistic version of autodiff developed by Rasmus Berg Palm that we use for our framework.\n"
   ]
  },
  {
   "cell_type": "markdown",
   "metadata": {
    "id": "1SjiIp-TFtF0"
   },
   "source": [
    "# This notebook will follow the next steps:\n",
    "\n",
    "1. Nanograd automatic differentiation framework\n",
    "2. Finite difference method\n",
    "3. Data generation\n",
    "4. Defining and initializing the network\n",
    "5. Forward pass\n",
    "6. Training loop \n",
    "7. Testing your model\n",
    "8. Further extensions"
   ]
  },
  {
   "cell_type": "markdown",
   "metadata": {
    "id": "OyXeAA-HuT7s"
   },
   "source": [
    "# Nanograd automatic differention framework"
   ]
  },
  {
   "cell_type": "markdown",
   "metadata": {
    "id": "k6UWKCLKubgA"
   },
   "source": [
    "The [Nanograd](https://github.com/rasmusbergpalm/nanograd) framework defines a class Var which both holds a value and gradient value that we can use to store the intermediate values when we apply the chain rule of differentiation."
   ]
  },
  {
   "cell_type": "code",
   "execution_count": 1,
   "metadata": {
    "id": "Jd4CoEBNzNWS"
   },
   "outputs": [],
   "source": [
    "# Copy and pasted from https://github.com/rasmusbergpalm/nanograd/blob/3a1bf9e9e724da813bfccf91a6f309abdade9f39/nanograd.py\n",
    "\n",
    "from math import exp, log\n",
    "\n",
    "class Var:\n",
    "    \"\"\"\n",
    "    A variable which holds a float and enables gradient computations.\n",
    "    \"\"\"\n",
    "\n",
    "    def __init__(self, val: float, grad_fn=lambda: []):\n",
    "        assert type(val) == float\n",
    "        self.v = val\n",
    "        self.grad_fn = grad_fn\n",
    "        self.grad = 0.0\n",
    "\n",
    "    def backprop(self, bp):\n",
    "        self.grad += bp\n",
    "        for input, grad in self.grad_fn():\n",
    "            input.backprop(grad * bp)\n",
    "\n",
    "    def backward(self):\n",
    "        self.backprop(1.0)\n",
    "\n",
    "    def __add__(self: 'Var', other: 'Var') -> 'Var':\n",
    "        return Var(self.v + other.v, lambda: [(self, 1.0), (other, 1.0)])\n",
    "\n",
    "    def __mul__(self: 'Var', other: 'Var') -> 'Var':\n",
    "        return Var(self.v * other.v, lambda: [(self, other.v), (other, self.v)])\n",
    "\n",
    "    def __pow__(self, power):\n",
    "        assert type(power) in {float, int}, \"power must be float or int\"\n",
    "        return Var(self.v ** power, lambda: [(self, power * self.v ** (power - 1))])\n",
    "\n",
    "    def __neg__(self: 'Var') -> 'Var':\n",
    "        return Var(-1.0) * self\n",
    "\n",
    "    def __sub__(self: 'Var', other: 'Var') -> 'Var':\n",
    "        return self + (-other)\n",
    "\n",
    "    def __truediv__(self: 'Var', other: 'Var') -> 'Var':\n",
    "        return self * other ** -1\n",
    "\n",
    "    def __repr__(self):\n",
    "        return \"Var(v=%.4f, grad=%.4f)\" % (self.v, self.grad)\n",
    "\n",
    "    def relu(self):\n",
    "        return Var(self.v if self.v > 0.0 else 0.0, lambda: [(self, 1.0 if self.v > 0.0 else 0.0)])"
   ]
  },
  {
   "cell_type": "markdown",
   "metadata": {
    "id": "yDX67D6jzcte"
   },
   "source": [
    "A few examples illustrate how we can use this:"
   ]
  },
  {
   "cell_type": "code",
   "execution_count": 2,
   "metadata": {
    "colab": {
     "base_uri": "https://localhost:8080/"
    },
    "id": "xk6PeLc3zwPT",
    "outputId": "47e431b2-07ba-4cb1-ea21-997769641c67"
   },
   "outputs": [
    {
     "name": "stdout",
     "output_type": "stream",
     "text": [
      "Var(v=3.0000, grad=5.0000)\n",
      "Var(v=5.0000, grad=3.0000)\n",
      "Var(v=15.0000, grad=1.0000)\n"
     ]
    }
   ],
   "source": [
    "a = Var(3.0)\n",
    "b = Var(5.0)\n",
    "f = a * b\n",
    "\n",
    "f.backward()\n",
    "\n",
    "for v in [a, b, f]:\n",
    "    print(v)"
   ]
  },
  {
   "cell_type": "code",
   "execution_count": 3,
   "metadata": {
    "colab": {
     "base_uri": "https://localhost:8080/"
    },
    "id": "JmKhYgsY0g_o",
    "outputId": "06c1b1df-c33c-40d3-922a-624612a591c7"
   },
   "outputs": [
    {
     "name": "stdout",
     "output_type": "stream",
     "text": [
      "Var(v=3.0000, grad=14.0000)\n",
      "Var(v=5.0000, grad=3.0000)\n",
      "Var(v=15.0000, grad=1.0000)\n",
      "Var(v=9.0000, grad=3.0000)\n",
      "Var(v=27.0000, grad=1.0000)\n",
      "Var(v=42.0000, grad=1.0000)\n"
     ]
    }
   ],
   "source": [
    "a = Var(3.0)\n",
    "b = Var(5.0)\n",
    "c = a * b\n",
    "\n",
    "d = Var(9.0)\n",
    "e = a * d\n",
    "f = c + e\n",
    "\n",
    "f.backward()\n",
    "\n",
    "for v in [a, b, c, d, e, f]:\n",
    "    print(v)"
   ]
  },
  {
   "cell_type": "markdown",
   "metadata": {
    "id": "Fe3B6uEH140p"
   },
   "source": [
    "## Exercise a) What is being calculated?\n",
    "\n",
    "Explain briefly the output of the code? What is the expression we differentiate and with respect to what variables?"
   ]
  },
  {
   "cell_type": "markdown",
   "metadata": {},
   "source": [
    "The NanoGrad \"Var\" class holds a float variable and enables gradient computations. All \"Var\"s are initialized with 0 in the gradient and using the backward method will add 1 to the gradient and calculate the gradients for all previous layers."
   ]
  },
  {
   "cell_type": "markdown",
   "metadata": {
    "id": "q8_Q0t2I3Ruj"
   },
   "source": [
    "## Exercise b) How does the backward function work?\n",
    "\n",
    "You need to understand how the backward function calculates the gradients. We can use the two examples above to help with that.\n",
    "\n",
    "Go through the following four steps and answer the questions on the way:\n",
    "\n",
    "1. We represent the two expressions as graphs as shown below. Fill in the missing expressions for the different derivatives.\n",
    "\n",
    "2. In the remainder consider the first expression. Make a schematic of the data structure which is generated when we define the expression for f. \n",
    "\n",
    "3. Then execute the backward function by hand to convince yourself that it indeed calculates the gradients with respect to the variables. \n",
    "\n",
    "4. Write down the sequence of calls to backprop."
   ]
  },
  {
   "cell_type": "code",
   "execution_count": 4,
   "metadata": {
    "id": "idGr71jYXl26"
   },
   "outputs": [],
   "source": [
    "# import logging\n",
    "import graphviz\n",
    "\n",
    "#logging.basicConfig(format='[%(levelname)s@%(name)s] %(message)s', level=logging.DEBUG)\n",
    "\n",
    "#graphviz.__version__, graphviz.version()"
   ]
  },
  {
   "cell_type": "code",
   "execution_count": 5,
   "metadata": {
    "colab": {
     "base_uri": "https://localhost:8080/",
     "height": 152
    },
    "id": "KPe30Q2QXzeG",
    "outputId": "7fa002cd-a018-4dbb-ddf1-28ed5e99ee19"
   },
   "outputs": [
    {
     "data": {
      "image/svg+xml": [
       "<?xml version=\"1.0\" encoding=\"UTF-8\" standalone=\"no\"?>\n",
       "<!DOCTYPE svg PUBLIC \"-//W3C//DTD SVG 1.1//EN\"\n",
       " \"http://www.w3.org/Graphics/SVG/1.1/DTD/svg11.dtd\">\n",
       "<!-- Generated by graphviz version 2.50.0 (0)\n",
       " -->\n",
       "<!-- Title: first expression Pages: 1 -->\n",
       "<svg width=\"160pt\" height=\"98pt\"\n",
       " viewBox=\"0.00 0.00 160.00 98.00\" xmlns=\"http://www.w3.org/2000/svg\" xmlns:xlink=\"http://www.w3.org/1999/xlink\">\n",
       "<g id=\"graph0\" class=\"graph\" transform=\"scale(1 1) rotate(0) translate(4 94)\">\n",
       "<title>first expression</title>\n",
       "<polygon fill=\"white\" stroke=\"transparent\" points=\"-4,4 -4,-94 156,-94 156,4 -4,4\"/>\n",
       "<!-- a -->\n",
       "<g id=\"node1\" class=\"node\">\n",
       "<title>a</title>\n",
       "<ellipse fill=\"none\" stroke=\"black\" cx=\"18\" cy=\"-72\" rx=\"18\" ry=\"18\"/>\n",
       "<text text-anchor=\"middle\" x=\"18\" y=\"-68.3\" font-family=\"Times,serif\" font-size=\"14.00\">a</text>\n",
       "</g>\n",
       "<!-- f -->\n",
       "<g id=\"node2\" class=\"node\">\n",
       "<title>f</title>\n",
       "<ellipse fill=\"none\" stroke=\"black\" cx=\"134\" cy=\"-45\" rx=\"18\" ry=\"18\"/>\n",
       "<text text-anchor=\"middle\" x=\"134\" y=\"-41.3\" font-family=\"Times,serif\" font-size=\"14.00\">f</text>\n",
       "</g>\n",
       "<!-- a&#45;&gt;f -->\n",
       "<g id=\"edge1\" class=\"edge\">\n",
       "<title>a&#45;&gt;f</title>\n",
       "<path fill=\"none\" stroke=\"black\" d=\"M35.82,-68.02C54.34,-63.63 84.38,-56.51 106.17,-51.36\"/>\n",
       "<polygon fill=\"black\" stroke=\"black\" points=\"107.19,-54.71 116.11,-49 105.57,-47.9 107.19,-54.71\"/>\n",
       "<text text-anchor=\"middle\" x=\"76\" y=\"-66.8\" font-family=\"Times,serif\" font-size=\"14.00\">df/da=5</text>\n",
       "</g>\n",
       "<!-- b -->\n",
       "<g id=\"node3\" class=\"node\">\n",
       "<title>b</title>\n",
       "<ellipse fill=\"none\" stroke=\"black\" cx=\"18\" cy=\"-18\" rx=\"18\" ry=\"18\"/>\n",
       "<text text-anchor=\"middle\" x=\"18\" y=\"-14.3\" font-family=\"Times,serif\" font-size=\"14.00\">b</text>\n",
       "</g>\n",
       "<!-- b&#45;&gt;f -->\n",
       "<g id=\"edge2\" class=\"edge\">\n",
       "<title>b&#45;&gt;f</title>\n",
       "<path fill=\"none\" stroke=\"black\" d=\"M36.07,-20.92C52.15,-23.8 76.86,-28.55 98,-34 100.89,-34.74 103.9,-35.59 106.88,-36.46\"/>\n",
       "<polygon fill=\"black\" stroke=\"black\" points=\"106.13,-39.9 116.72,-39.49 108.19,-33.21 106.13,-39.9\"/>\n",
       "<text text-anchor=\"middle\" x=\"76\" y=\"-37.8\" font-family=\"Times,serif\" font-size=\"14.00\">df/db=3</text>\n",
       "</g>\n",
       "</g>\n",
       "</svg>\n"
      ],
      "text/plain": [
       "<graphviz.graphs.Digraph at 0x1045a7430>"
      ]
     },
     "execution_count": 5,
     "metadata": {},
     "output_type": "execute_result"
    }
   ],
   "source": [
    "e1 = graphviz.Digraph('first expression', filename='fsm.gv')\n",
    "\n",
    "e1.attr(rankdir='LR', size='8,5')\n",
    "\n",
    "e1.attr('node', shape='circle')\n",
    "e1.edge('a', 'f', label='df/da=5')\n",
    "e1.edge('b', 'f', label='df/db=3')\n",
    "\n",
    "e1"
   ]
  },
  {
   "cell_type": "code",
   "execution_count": 6,
   "metadata": {
    "colab": {
     "base_uri": "https://localhost:8080/",
     "height": 232
    },
    "id": "0nittR-mZFeX",
    "outputId": "fa3656a3-732c-4abe-8084-98a492b0d6be"
   },
   "outputs": [
    {
     "data": {
      "image/svg+xml": [
       "<?xml version=\"1.0\" encoding=\"UTF-8\" standalone=\"no\"?>\n",
       "<!DOCTYPE svg PUBLIC \"-//W3C//DTD SVG 1.1//EN\"\n",
       " \"http://www.w3.org/Graphics/SVG/1.1/DTD/svg11.dtd\">\n",
       "<!-- Generated by graphviz version 2.50.0 (0)\n",
       " -->\n",
       "<!-- Title: second expression Pages: 1 -->\n",
       "<svg width=\"283pt\" height=\"158pt\"\n",
       " viewBox=\"0.00 0.00 283.00 158.00\" xmlns=\"http://www.w3.org/2000/svg\" xmlns:xlink=\"http://www.w3.org/1999/xlink\">\n",
       "<g id=\"graph0\" class=\"graph\" transform=\"scale(1 1) rotate(0) translate(4 154)\">\n",
       "<title>second expression</title>\n",
       "<polygon fill=\"white\" stroke=\"transparent\" points=\"-4,4 -4,-154 279,-154 279,4 -4,4\"/>\n",
       "<!-- a -->\n",
       "<g id=\"node1\" class=\"node\">\n",
       "<title>a</title>\n",
       "<ellipse fill=\"none\" stroke=\"black\" cx=\"18\" cy=\"-75\" rx=\"18\" ry=\"18\"/>\n",
       "<text text-anchor=\"middle\" x=\"18\" y=\"-71.3\" font-family=\"Times,serif\" font-size=\"14.00\">a</text>\n",
       "</g>\n",
       "<!-- c -->\n",
       "<g id=\"node2\" class=\"node\">\n",
       "<title>c</title>\n",
       "<ellipse fill=\"none\" stroke=\"black\" cx=\"142\" cy=\"-102\" rx=\"18\" ry=\"18\"/>\n",
       "<text text-anchor=\"middle\" x=\"142\" y=\"-98.3\" font-family=\"Times,serif\" font-size=\"14.00\">c</text>\n",
       "</g>\n",
       "<!-- a&#45;&gt;c -->\n",
       "<g id=\"edge1\" class=\"edge\">\n",
       "<title>a&#45;&gt;c</title>\n",
       "<path fill=\"none\" stroke=\"black\" d=\"M35.71,-78.7C55.95,-83.18 90.29,-90.78 114.24,-96.08\"/>\n",
       "<polygon fill=\"black\" stroke=\"black\" points=\"113.58,-99.52 124.1,-98.26 115.1,-92.68 113.58,-99.52\"/>\n",
       "<text text-anchor=\"middle\" x=\"80\" y=\"-97.8\" font-family=\"Times,serif\" font-size=\"14.00\">dc/da=14</text>\n",
       "</g>\n",
       "<!-- e -->\n",
       "<g id=\"node4\" class=\"node\">\n",
       "<title>e</title>\n",
       "<ellipse fill=\"none\" stroke=\"black\" cx=\"142\" cy=\"-48\" rx=\"18\" ry=\"18\"/>\n",
       "<text text-anchor=\"middle\" x=\"142\" y=\"-44.3\" font-family=\"Times,serif\" font-size=\"14.00\">e</text>\n",
       "</g>\n",
       "<!-- a&#45;&gt;e -->\n",
       "<g id=\"edge3\" class=\"edge\">\n",
       "<title>a&#45;&gt;e</title>\n",
       "<path fill=\"none\" stroke=\"black\" d=\"M35.22,-68.84C41.08,-66.77 47.78,-64.59 54,-63 73.8,-57.93 96.57,-54.08 113.85,-51.54\"/>\n",
       "<polygon fill=\"black\" stroke=\"black\" points=\"114.41,-55 123.83,-50.14 113.44,-48.07 114.41,-55\"/>\n",
       "<text text-anchor=\"middle\" x=\"80\" y=\"-66.8\" font-family=\"Times,serif\" font-size=\"14.00\">de/da=14</text>\n",
       "</g>\n",
       "<!-- f -->\n",
       "<g id=\"node6\" class=\"node\">\n",
       "<title>f</title>\n",
       "<ellipse fill=\"none\" stroke=\"black\" cx=\"257\" cy=\"-75\" rx=\"18\" ry=\"18\"/>\n",
       "<text text-anchor=\"middle\" x=\"257\" y=\"-71.3\" font-family=\"Times,serif\" font-size=\"14.00\">f</text>\n",
       "</g>\n",
       "<!-- c&#45;&gt;f -->\n",
       "<g id=\"edge5\" class=\"edge\">\n",
       "<title>c&#45;&gt;f</title>\n",
       "<path fill=\"none\" stroke=\"black\" d=\"M159.67,-98.02C178.03,-93.63 207.81,-86.51 229.4,-81.36\"/>\n",
       "<polygon fill=\"black\" stroke=\"black\" points=\"230.35,-84.73 239.26,-79 228.72,-77.92 230.35,-84.73\"/>\n",
       "<text text-anchor=\"middle\" x=\"199.5\" y=\"-96.8\" font-family=\"Times,serif\" font-size=\"14.00\">df/dc=1</text>\n",
       "</g>\n",
       "<!-- b -->\n",
       "<g id=\"node3\" class=\"node\">\n",
       "<title>b</title>\n",
       "<ellipse fill=\"none\" stroke=\"black\" cx=\"18\" cy=\"-132\" rx=\"18\" ry=\"18\"/>\n",
       "<text text-anchor=\"middle\" x=\"18\" y=\"-128.3\" font-family=\"Times,serif\" font-size=\"14.00\">b</text>\n",
       "</g>\n",
       "<!-- b&#45;&gt;c -->\n",
       "<g id=\"edge2\" class=\"edge\">\n",
       "<title>b&#45;&gt;c</title>\n",
       "<path fill=\"none\" stroke=\"black\" d=\"M35.71,-127.89C55.95,-122.92 90.29,-114.47 114.24,-108.58\"/>\n",
       "<polygon fill=\"black\" stroke=\"black\" points=\"115.23,-111.94 124.1,-106.16 113.56,-105.14 115.23,-111.94\"/>\n",
       "<text text-anchor=\"middle\" x=\"80\" y=\"-126.8\" font-family=\"Times,serif\" font-size=\"14.00\">dc/db=3</text>\n",
       "</g>\n",
       "<!-- e&#45;&gt;f -->\n",
       "<g id=\"edge6\" class=\"edge\">\n",
       "<title>e&#45;&gt;f</title>\n",
       "<path fill=\"none\" stroke=\"black\" d=\"M159.85,-50.94C175.73,-53.83 200.12,-58.59 221,-64 223.89,-64.75 226.9,-65.59 229.88,-66.47\"/>\n",
       "<polygon fill=\"black\" stroke=\"black\" points=\"229.13,-69.9 239.72,-69.5 231.19,-63.21 229.13,-69.9\"/>\n",
       "<text text-anchor=\"middle\" x=\"199.5\" y=\"-67.8\" font-family=\"Times,serif\" font-size=\"14.00\">df/de=1</text>\n",
       "</g>\n",
       "<!-- d -->\n",
       "<g id=\"node5\" class=\"node\">\n",
       "<title>d</title>\n",
       "<ellipse fill=\"none\" stroke=\"black\" cx=\"18\" cy=\"-18\" rx=\"18\" ry=\"18\"/>\n",
       "<text text-anchor=\"middle\" x=\"18\" y=\"-14.3\" font-family=\"Times,serif\" font-size=\"14.00\">d</text>\n",
       "</g>\n",
       "<!-- d&#45;&gt;e -->\n",
       "<g id=\"edge4\" class=\"edge\">\n",
       "<title>d&#45;&gt;e</title>\n",
       "<path fill=\"none\" stroke=\"black\" d=\"M35.95,-19.73C53.68,-21.82 82.19,-25.95 106,-33 109.4,-34.01 112.91,-35.25 116.34,-36.59\"/>\n",
       "<polygon fill=\"black\" stroke=\"black\" points=\"115.03,-39.83 125.61,-40.48 117.74,-33.38 115.03,-39.83\"/>\n",
       "<text text-anchor=\"middle\" x=\"80\" y=\"-36.8\" font-family=\"Times,serif\" font-size=\"14.00\">de/dd=3</text>\n",
       "</g>\n",
       "</g>\n",
       "</svg>\n"
      ],
      "text/plain": [
       "<graphviz.graphs.Digraph at 0x1045a7670>"
      ]
     },
     "execution_count": 6,
     "metadata": {},
     "output_type": "execute_result"
    }
   ],
   "source": [
    "e2 = graphviz.Digraph('second expression', filename='fsm.gv')\n",
    "\n",
    "e2.attr(rankdir='LR', size='8,5')\n",
    "\n",
    "e2.attr('node', shape='circle')\n",
    "e2.edge('a', 'c', label='dc/da=14')\n",
    "e2.edge('b', 'c', label='dc/db=3')\n",
    "e2.edge('a', 'e', label='de/da=14')\n",
    "e2.edge('d', 'e', label='de/dd=3')\n",
    "e2.edge('c', 'f', label='df/dc=1')\n",
    "e2.edge('e', 'f', label='df/de=1')\n",
    "\n",
    "e2"
   ]
  },
  {
   "cell_type": "markdown",
   "metadata": {
    "id": "A5oi21W4gpeM"
   },
   "source": [
    "## Exercise c) What happens if we run backward again?\n",
    "\n",
    "Try to execute the code below. Explain what happens."
   ]
  },
  {
   "cell_type": "code",
   "execution_count": 7,
   "metadata": {
    "colab": {
     "base_uri": "https://localhost:8080/"
    },
    "id": "DCtpJyr-gyX1",
    "outputId": "d014bcfa-c9ae-49c3-d268-91cc6ca94ea5"
   },
   "outputs": [
    {
     "name": "stdout",
     "output_type": "stream",
     "text": [
      "Var(v=3.0000, grad=28.0000)\n",
      "Var(v=5.0000, grad=6.0000)\n",
      "Var(v=15.0000, grad=2.0000)\n",
      "Var(v=9.0000, grad=6.0000)\n",
      "Var(v=27.0000, grad=2.0000)\n",
      "Var(v=42.0000, grad=2.0000)\n"
     ]
    }
   ],
   "source": [
    "f.backward()\n",
    "\n",
    "for v in [a, b, c, d, e, f]:\n",
    "    print(v)"
   ]
  },
  {
   "cell_type": "markdown",
   "metadata": {},
   "source": [
    "When initalizing the Var class, the gradient is set to 0 in the final layer, f, and the backward method will add 1 to f every time the method is called, which will influence the gradients in the previous layers."
   ]
  },
  {
   "cell_type": "markdown",
   "metadata": {
    "id": "e8bPVq2VhsP-"
   },
   "source": [
    "## Exercise d) Zero gradient\n",
    "\n",
    "We can zero the gradient by backpropagating a -1.0 as is shown in the example below. (If you have run backward multiple time then you also have to run the cell below an equal amount of times.) Explain what is going on."
   ]
  },
  {
   "cell_type": "code",
   "execution_count": 8,
   "metadata": {
    "colab": {
     "base_uri": "https://localhost:8080/"
    },
    "id": "OnyPDQx9lJe0",
    "outputId": "7a125fdc-60c4-4340-a580-8b82aea5b0db"
   },
   "outputs": [
    {
     "name": "stdout",
     "output_type": "stream",
     "text": [
      "Var(v=2.0000, grad=0.0000)\n",
      "Var(v=5.0000, grad=6.0000)\n",
      "Var(v=15.0000, grad=2.0000)\n",
      "Var(v=9.0000, grad=6.0000)\n",
      "Var(v=27.0000, grad=2.0000)\n",
      "Var(v=42.0000, grad=2.0000)\n",
      "Var(v=2.0000, grad=0.0000)\n",
      "Var(v=5.0000, grad=3.0000)\n",
      "Var(v=15.0000, grad=1.0000)\n",
      "Var(v=9.0000, grad=3.0000)\n",
      "Var(v=27.0000, grad=1.0000)\n",
      "Var(v=42.0000, grad=1.0000)\n"
     ]
    }
   ],
   "source": [
    "a = Var(2.0)\n",
    "\n",
    "for v in [a, b, c, d, e, f]:\n",
    "    print(v)\n",
    "\n",
    "f.backprop(-1.0)\n",
    "\n",
    "for v in [a, b, c, d, e, f]:\n",
    "    print(v)"
   ]
  },
  {
   "cell_type": "markdown",
   "metadata": {},
   "source": [
    "When initalizing the class, the gradient of \"Var\" is set to 0, and using backward will add 1 to the class, that is the state will change permanently. Running backward again will add 1 and then the gradient will be 2 and so on. If one uses \"f.backprop(-1.0)\" after using \"backward\", the \"Var\" class will subtract 1 after adding 1 to gradient property to the class and thus go back to status quo."
   ]
  },
  {
   "cell_type": "markdown",
   "metadata": {
    "id": "U4057_ljNvWB"
   },
   "source": [
    "## Exercise e) Test correctness of derivatives with the finite difference method\n",
    "\n",
    "Write a small function that uses [the finite difference method](https://en.wikipedia.org/wiki/Finite_difference_method) to numerically test that backpropation implementation is working. In short we will use\n",
    "$$\n",
    "\\frac{\\partial f(a)}{\\partial a} \\approx \\frac{f(a+da)-f(a)}{da}\n",
    "$$\n",
    "for $da \\ll 1$.\n",
    "\n",
    "As an example, we could approximate the derivative of the function $f(a)=a^2$ in e.g. the value $a=4$ using the finite difference method. This amounts to inserting the relevant values and approximating the gradient $f'(4)$ with the fraction above. \n"
   ]
  },
  {
   "cell_type": "code",
   "execution_count": 9,
   "metadata": {
    "colab": {
     "base_uri": "https://localhost:8080/"
    },
    "id": "9TGil92lSXDN",
    "outputId": "7ef5489b-b525-4132-ab08-0b1109c07f4d"
   },
   "outputs": [
    {
     "name": "stdout",
     "output_type": "stream",
     "text": [
      "5.000000413701855\n"
     ]
    }
   ],
   "source": [
    "# f function - try to change the code to test other types of functions as well (such as different polynomials etc.)\n",
    "from typing import Callable\n",
    "\n",
    "\n",
    "def f_function(a):\n",
    "  a = Var(a)\n",
    "  b = Var(5.0)\n",
    "  f = a * b\n",
    "  f.backward()\n",
    "  return f.v\n",
    "\n",
    "# for v in f_function(3.0):\n",
    "#   print(v)\n",
    "\n",
    "def formula(func: Callable, a: float, da: float):\n",
    "    return (func(a + da) - func(a)) / da\n",
    "\n",
    "\n",
    "# Insert your finite difference code here\n",
    "def finite_difference(a: float, da=1e-10):\n",
    "    \"\"\"\n",
    "    This function compute the finite difference between\n",
    "    \n",
    "    Input:\n",
    "    da:          The finite difference                           (float)\n",
    "    \n",
    "    Output:\n",
    "    finite_difference: numerical approximation to the derivative (float) \n",
    "    \"\"\"\n",
    "    \n",
    "    finite_difference = formula(f_function, a, da)\n",
    "    \n",
    "    return finite_difference\n",
    "\n",
    "print(finite_difference(a=3.))"
   ]
  },
  {
   "cell_type": "markdown",
   "metadata": {},
   "source": [
    "Test other functions:"
   ]
  },
  {
   "cell_type": "code",
   "execution_count": 10,
   "metadata": {},
   "outputs": [
    {
     "name": "stdout",
     "output_type": "stream",
     "text": [
      "8.000000661922968\n",
      "2.000000165480742\n",
      "0.25000002068509275\n"
     ]
    }
   ],
   "source": [
    "print(formula(func=lambda a: a**2, a=4, da=1e-10))\n",
    "print(formula(func=lambda a: 2*a, a=4, da=1e-10))\n",
    "print(formula(func=lambda a: log(a), a=4, da=1e-10))"
   ]
  },
  {
   "cell_type": "markdown",
   "metadata": {
    "id": "6pZar5RKaUkg"
   },
   "source": [
    "# Create an artificial dataset to play with\n",
    "\n",
    "We create a non-linear 1d regression task. The generator supports various noise levels and it creates train, validation and test sets. You can modify it yourself if you want more or less challenging tasks."
   ]
  },
  {
   "cell_type": "code",
   "execution_count": 11,
   "metadata": {
    "id": "Y6yfMAQ8aduj"
   },
   "outputs": [],
   "source": [
    "import numpy as np\n",
    "import matplotlib.pyplot as plt\n",
    "\n",
    "np.random.seed(42)"
   ]
  },
  {
   "cell_type": "code",
   "execution_count": 12,
   "metadata": {
    "id": "4YabfD43ajNh"
   },
   "outputs": [],
   "source": [
    "def data_generator(noise=0.1, n_samples=300, D1=True):\n",
    "    # Create covariates and response variable\n",
    "    if D1:\n",
    "        X = np.linspace(-3, 3, num=n_samples).reshape(-1,1) # 1-D\n",
    "        np.random.shuffle(X)\n",
    "        y = np.random.normal((0.5*np.sin(X[:,0]*3) + X[:,0]), noise) # 1-D with trend\n",
    "    else:\n",
    "        X = np.random.multivariate_normal(np.zeros(3), noise*np.eye(3), size = n_samples) # 3-D\n",
    "        np.random.shuffle(X)    \n",
    "        y = np.sin(X[:,0]) - 5*(X[:,1]**2) + 0.5*X[:,2] # 3-D\n",
    "\n",
    "    # Stack them together vertically to split data set\n",
    "    data_set = np.vstack((X.T,y)).T\n",
    "    \n",
    "    train, validation, test = np.split(data_set, [int(0.35*n_samples), int(0.7*n_samples)], axis=0)\n",
    "    \n",
    "    # Standardization of the data, remember we do the standardization with the training set mean and standard deviation\n",
    "    train_mu = np.mean(train, axis=0)\n",
    "    train_sigma = np.std(train, axis=0)\n",
    "    \n",
    "    train = (train-train_mu)/train_sigma\n",
    "    validation = (validation-train_mu)/train_sigma\n",
    "    test = (test-train_mu)/train_sigma\n",
    "    \n",
    "    x_train, x_validation, x_test = train[:,:-1], validation[:,:-1], test[:,:-1]\n",
    "    y_train, y_validation, y_test = train[:,-1], validation[:,-1], test[:,-1]\n",
    "\n",
    "    return x_train, y_train,  x_validation, y_validation, x_test, y_test"
   ]
  },
  {
   "cell_type": "code",
   "execution_count": 13,
   "metadata": {
    "id": "u1oDngHLapIz"
   },
   "outputs": [],
   "source": [
    "D1 = True\n",
    "x_train, y_train,  x_validation, y_validation, x_test, y_test = data_generator(noise=0.5, D1=D1)"
   ]
  },
  {
   "cell_type": "code",
   "execution_count": 14,
   "metadata": {
    "colab": {
     "base_uri": "https://localhost:8080/",
     "height": 265
    },
    "id": "Ysfa3FsBavlm",
    "outputId": "399e5382-ae7d-48f6-9774-7ea4c73e7d95"
   },
   "outputs": [
    {
     "data": {
      "image/png": "[encoded data removed]",
      "text/plain": [
       "<Figure size 640x480 with 1 Axes>"
      ]
     },
     "metadata": {},
     "output_type": "display_data"
    }
   ],
   "source": [
    "if D1:\n",
    "    plt.scatter(x_train[:,0], y_train);\n",
    "    plt.scatter(x_validation[:,0], y_validation);\n",
    "    plt.scatter(x_test[:,0], y_test);\n",
    "else:\n",
    "    plt.scatter(x_train[:,1], y_train);\n",
    "    plt.scatter(x_validation[:,1], y_validation);\n",
    "    plt.scatter(x_test[:,1], y_test);\n",
    "plt.show()"
   ]
  },
  {
   "cell_type": "code",
   "execution_count": 15,
   "metadata": {
    "id": "zac2HHNlgbpm"
   },
   "outputs": [],
   "source": [
    "# convert from nparray to Var\n",
    "def nparray_to_Var(x):\n",
    "  if x.ndim==1:\n",
    "    y = [[Var(float(x[i]))] for i in range(x.shape[0])] # always work with list of list\n",
    "  else:\n",
    "    y = [[Var(float(x[i,j])) for j in range(x.shape[1])] for i in range(x.shape[0])]\n",
    "  return y\n",
    "   \n",
    "x_train = nparray_to_Var(x_train)\n",
    "y_train = nparray_to_Var(y_train)\n",
    "x_validation = nparray_to_Var(x_validation)\n",
    "y_validation = nparray_to_Var(y_validation)\n",
    "x_test = nparray_to_Var(x_test)\n",
    "y_test = nparray_to_Var(y_test)\n"
   ]
  },
  {
   "cell_type": "markdown",
   "metadata": {
    "id": "VbjrqcpVFtGe"
   },
   "source": [
    "# Defining and initializing the network\n",
    "\n",
    "The steps to create a feed forward neural network are the following:\n",
    "\n",
    "1. **Number of hidden layer and hidden units**. We have to define the number of hidden units in each layer. The number of features in X and the output dimensionality (the size of Y) are given but the numbers in between are set by the researcher. Remember that for each unit in each layer beside in the input has a bias term.\n",
    "2. **Activation functions** for each hidden layer. Each hidden layer in your list must have an activation function (it can also be the linear activation which is equivalent to identity function). The power of neural networks comes from non-linear activation functions that learn representations (features) from the data allowing us to learn from it. \n",
    "3. **Parameter initialization**. We will initialize the weights to have random values. This is done in practice by drawing pseudo random numbers from a Gaussian or uniform distribution. It turns out that for deeper models we have to be careful about how we scale the random numbers. This will be the topic of the exercise below. For now we will just use unit variance Gaussians.  \n",
    "\n",
    "In order to make life easier for ourselves we define a DenseLayer class that takes care of initialization and the forward pass. We can also extend it later with print and advanced initialization capabilities. For the latter we have introduced a Initializer class.\n",
    "\n",
    "Note that we use Sequence in the code below. A Sequence is an ordered list. This means the order we insert and access items are the same."
   ]
  },
  {
   "cell_type": "code",
   "execution_count": 16,
   "metadata": {
    "id": "ij_ieRsAt7Xt"
   },
   "outputs": [],
   "source": [
    "class Initializer:\n",
    "\n",
    "  def init_weights(self, n_in, n_out):\n",
    "    raise NotImplementedError\n",
    "\n",
    "  def init_bias(self, n_out):\n",
    "    raise NotImplementedError"
   ]
  },
  {
   "cell_type": "code",
   "execution_count": 17,
   "metadata": {
    "id": "eb18N5phuIha"
   },
   "outputs": [],
   "source": [
    "import random\n",
    "\n",
    "class NormalInitializer(Initializer):\n",
    "\n",
    "  def __init__(self, mean=0, std=0.1):\n",
    "    self.mean = mean\n",
    "    self.std = std\n",
    "\n",
    "  def init_weights(self, n_in, n_out):\n",
    "    return [[Var(random.gauss(self.mean, self.std)) for _ in range(n_out)] for _ in range(n_in)]\n",
    "\n",
    "  def init_bias(self, n_out):\n",
    "    return [Var(0.0) for _ in range(n_out)]\n",
    "\n",
    "class ConstantInitializer(Initializer):\n",
    "\n",
    "  def __init__(self, weight=1.0, bias=0.0):\n",
    "    self.weight = weight\n",
    "    self.bias = bias\n",
    "\n",
    "  def init_weights(self, n_in, n_out):\n",
    "    return [[Var(self.weight) for _ in range(n_out)] for _ in range(n_in)]\n",
    "\n",
    "  def init_bias(self, n_out):\n",
    "    return [Var(self.bias) for _ in range(n_out)]"
   ]
  },
  {
   "cell_type": "code",
   "execution_count": 18,
   "metadata": {
    "id": "jOLYGnZKuM6W"
   },
   "outputs": [],
   "source": [
    "from typing import Sequence\n",
    "\n",
    "class DenseLayer:\n",
    "    def __init__(self, n_in: int, n_out: int, act_fn, initializer = NormalInitializer()):\n",
    "        self.weights = initializer.init_weights(n_in, n_out)\n",
    "        self.bias = initializer.init_bias(n_out)\n",
    "        self.act_fn = act_fn\n",
    "    \n",
    "    def __repr__(self):    \n",
    "        return 'Weights: ' + repr(self.weights) + ' Biases: ' + repr(self.bias)\n",
    "\n",
    "    def parameters(self) -> Sequence[Var]:\n",
    "      params = []\n",
    "      for r in self.weights:\n",
    "        params += r\n",
    "\n",
    "      return params + self.bias\n",
    "\n",
    "    def forward(self, single_input: Sequence[Var]) -> Sequence[Var]:\n",
    "        # self.weights is a matrix with dimension n_in x n_out. We check that the dimensionality of the input \n",
    "        # to the current layer matches the number of nodes in the current layer\n",
    "        assert len(self.weights) == len(single_input), \"weights and single_input must match in first dimension\"\n",
    "        weights = self.weights\n",
    "        out = []\n",
    "        # For some given data point single_input, we now want to calculate the resulting value in each node in the current layer\n",
    "        # We therefore loop over the (number of) nodes in the current layer:\n",
    "        for j in range(len(weights[0])): \n",
    "            # Initialize the node value depending on its corresponding parameters.\n",
    "            node = Var(0.0) # <- Insert code\n",
    "            # We now finish the linear transformation corresponding to the parameters of the currently considered node.\n",
    "            for i in range(len(single_input)):\n",
    "                node += Var(0.0)  # <- Insert code\n",
    "            node = self.act_fn(node)\n",
    "            out.append(node)\n",
    "\n",
    "        return out"
   ]
  },
  {
   "cell_type": "markdown",
   "metadata": {
    "id": "jpIZPBpNI0pO"
   },
   "source": [
    "## Exercise f) Add more activation functions\n",
    "\n",
    "To have a full definition of the neural network, we must define an activation function for every layer. Several activation functions have been proposed and have different characteristics. In the Var class we have already defined the rectified linear init (relu). \n",
    " \n",
    "Implement the following activation functions in the Var class:\n",
    "\n",
    "* Identity: $$\\mathrm{identity}(x) = x$$\n",
    "* Hyperbolic tangent: $$\\tanh(x)$$\n",
    "* Sigmoid (or logistic function): $$\\mathrm{sigmoid}(x) = \\frac{1}{1.0 + \\exp(-x ) }$$  Hint: $\\mathrm{sigmoid}'(x)= \\mathrm{sigmoid}(x)(1-\\mathrm{sigmoid}(x))$.  \n",
    "\n",
    "Hint: You can seek inspiration in the relu method in the Var class."
   ]
  },
  {
   "cell_type": "code",
   "execution_count": 19,
   "metadata": {},
   "outputs": [],
   "source": [
    "# Copy and pasted from https://github.com/rasmusbergpalm/nanograd/blob/3a1bf9e9e724da813bfccf91a6f309abdade9f39/nanograd.py\n",
    "\n",
    "from math import exp, log\n",
    "\n",
    "class Var:\n",
    "    \"\"\"\n",
    "    A variable which holds a float and enables gradient computations.\n",
    "    \"\"\"\n",
    "\n",
    "    def __init__(self, val: float, grad_fn=lambda: []):\n",
    "        assert type(val) == float\n",
    "        self.v = val\n",
    "        self.grad_fn = grad_fn\n",
    "        self.grad = 0.0\n",
    "\n",
    "    def backprop(self, bp):\n",
    "        self.grad += bp\n",
    "        for input, grad in self.grad_fn():\n",
    "            input.backprop(grad * bp)\n",
    "\n",
    "    def backward(self):\n",
    "        self.backprop(1.0)\n",
    "\n",
    "    def __add__(self: 'Var', other: 'Var') -> 'Var':\n",
    "        return Var(self.v + other.v, lambda: [(self, 1.0), (other, 1.0)])\n",
    "\n",
    "    def __mul__(self: 'Var', other: 'Var') -> 'Var':\n",
    "        return Var(self.v * other.v, lambda: [(self, other.v), (other, self.v)])\n",
    "\n",
    "    def __pow__(self, power):\n",
    "        assert type(power) in {float, int}, \"power must be float or int\"\n",
    "        return Var(self.v ** power, lambda: [(self, power * self.v ** (power - 1))])\n",
    "\n",
    "    def __neg__(self: 'Var') -> 'Var':\n",
    "        return Var(-1.0) * self\n",
    "\n",
    "    def __sub__(self: 'Var', other: 'Var') -> 'Var':\n",
    "        return self + (-other)\n",
    "\n",
    "    def __truediv__(self: 'Var', other: 'Var') -> 'Var':\n",
    "        return self * other ** -1\n",
    "\n",
    "    def __repr__(self):\n",
    "        return \"Var(v=%.4f, grad=%.4f)\" % (self.v, self.grad)\n",
    "\n",
    "    def relu(self: 'Var') -> 'Var':\n",
    "        return Var(self.v if self.v > 0.0 else 0.0, lambda: [(self, 1.0 if self.v > 0.0 else 0.0)])\n",
    "    \n",
    "    # code is below here\n",
    "    #/////////////////////\n",
    "    def sigmoid(self: 'Var') -> 'Var':\n",
    "        def _sigmoid(x: float) -> float:\n",
    "            return 1. / (1. + exp(-x))\n",
    "        return Var(_sigmoid(self.v), lambda: [(self, _sigmoid(self.v) * (1.0 - _sigmoid(self.v)))])\n",
    "    \n",
    "    def identity(self: 'Var') -> 'Var':\n",
    "        return Var(self.v, lambda: [(self, 1.0)])\n",
    "    \n",
    "    def tanh(self: 'Var') -> 'Var':\n",
    "        def _tanh(x: float):\n",
    "            return (exp(x) - exp(-x)) / (exp(x) + exp(-x))\n",
    "        return Var(_tanh(self.v), lambda: [(self, 1 - _tanh(self.v)**2)])"
   ]
  },
  {
   "cell_type": "markdown",
   "metadata": {
    "id": "p_8n_SKnIW2F"
   },
   "source": [
    "## Exercise g) Complete the forward pass\n",
    "\n",
    "In the code below we initialize a 1-5-1 network and pass the training set through it. *The forward method in DenseLayer is **not** complete*. It just outputs zeros right now. The method forward should perform an [affine transformation](https://en.wikipedia.org/wiki/Affine_transformation) on the input followed by an application of the activation function."
   ]
  },
  {
   "cell_type": "code",
   "execution_count": 20,
   "metadata": {},
   "outputs": [],
   "source": [
    "import numpy as np\n",
    "from typing import Sequence\n",
    "\n",
    "class DenseLayer:\n",
    "    def __init__(self, n_in: int, n_out: int, act_fn, initializer = NormalInitializer()):\n",
    "        self.weights = initializer.init_weights(n_in, n_out)\n",
    "        self.bias = initializer.init_bias(n_out)\n",
    "        self.act_fn = act_fn\n",
    "    \n",
    "    def __repr__(self):    \n",
    "        return 'Weights: ' + repr(self.weights) + ' Biases: ' + repr(self.bias)\n",
    "\n",
    "    def parameters(self) -> Sequence[Var]:\n",
    "      params = []\n",
    "      for r in self.weights:\n",
    "        params += r\n",
    "\n",
    "      return params + self.bias\n",
    "\n",
    "    def forward(self, single_input: Sequence[Var]) -> Sequence[Var]:\n",
    "        # self.weights is a matrix with dimension n_in x n_out. We check that the dimensionality of the input \n",
    "        # to the current layer matches the number of nodes in the current layer\n",
    "        assert len(self.weights) == len(single_input), \"weights and single_input must match in first dimension\"\n",
    "        weights = self.weights\n",
    "        # For some given data point single_input, we now want to calculate the resulting value in each node in the current layer\n",
    "        # We therefore loop over the (number of)åç nodes in the current layer:\n",
    "        \n",
    "        # My code is here:\n",
    "        activation_func_np = np.vectorize(self.act_fn)\n",
    "        node =  np.matrix(weights).transpose() * np.matrix(single_input)\n",
    "        return activation_func_np(node).tolist()"
   ]
  },
  {
   "cell_type": "code",
   "execution_count": 21,
   "metadata": {
    "colab": {
     "base_uri": "https://localhost:8080/",
     "height": 337
    },
    "id": "xDEjtePxE7Mv",
    "outputId": "753406cd-d8a1-4282-ce03-25ad959b0e11"
   },
   "outputs": [
    {
     "name": "stdout",
     "output_type": "stream",
     "text": [
      "[[Var(v=0.0094, grad=0.0000)], [Var(v=0.0190, grad=0.0000)], [Var(v=0.0017, grad=0.0000)], [Var(v=0.0039, grad=0.0000)], [Var(v=0.0140, grad=0.0000)], [Var(v=0.0129, grad=0.0000)], [Var(v=0.0084, grad=0.0000)], [Var(v=0.0009, grad=0.0000)], [Var(v=0.0040, grad=0.0000)], [Var(v=0.0052, grad=0.0000)], [Var(v=0.0146, grad=0.0000)], [Var(v=0.0025, grad=0.0000)], [Var(v=0.0117, grad=0.0000)], [Var(v=0.0028, grad=0.0000)], [Var(v=0.0063, grad=0.0000)], [Var(v=0.0122, grad=0.0000)], [Var(v=0.0225, grad=0.0000)], [Var(v=0.0107, grad=0.0000)], [Var(v=0.0011, grad=0.0000)], [Var(v=0.0037, grad=0.0000)], [Var(v=0.0019, grad=0.0000)], [Var(v=0.0008, grad=0.0000)], [Var(v=0.0164, grad=0.0000)], [Var(v=0.0166, grad=0.0000)], [Var(v=0.0011, grad=0.0000)], [Var(v=0.0029, grad=0.0000)], [Var(v=0.0213, grad=0.0000)], [Var(v=0.0234, grad=0.0000)], [Var(v=0.0025, grad=0.0000)], [Var(v=0.0147, grad=0.0000)], [Var(v=0.0037, grad=0.0000)], [Var(v=0.0035, grad=0.0000)], [Var(v=0.0032, grad=0.0000)], [Var(v=0.0035, grad=0.0000)], [Var(v=0.0113, grad=0.0000)], [Var(v=0.0006, grad=0.0000)], [Var(v=0.0040, grad=0.0000)], [Var(v=0.0015, grad=0.0000)], [Var(v=0.0028, grad=0.0000)], [Var(v=0.0020, grad=0.0000)], [Var(v=0.0014, grad=0.0000)], [Var(v=0.0019, grad=0.0000)], [Var(v=0.0220, grad=0.0000)], [Var(v=0.0024, grad=0.0000)], [Var(v=0.0019, grad=0.0000)], [Var(v=0.0023, grad=0.0000)], [Var(v=0.0141, grad=0.0000)], [Var(v=0.0134, grad=0.0000)], [Var(v=0.0009, grad=0.0000)], [Var(v=0.0137, grad=0.0000)], [Var(v=0.0060, grad=0.0000)], [Var(v=0.0005, grad=0.0000)], [Var(v=0.0149, grad=0.0000)], [Var(v=0.0020, grad=0.0000)], [Var(v=0.0237, grad=0.0000)], [Var(v=0.0208, grad=0.0000)], [Var(v=0.0013, grad=0.0000)], [Var(v=0.0014, grad=0.0000)], [Var(v=0.0078, grad=0.0000)], [Var(v=0.0034, grad=0.0000)], [Var(v=0.0138, grad=0.0000)], [Var(v=0.0024, grad=0.0000)], [Var(v=0.0040, grad=0.0000)], [Var(v=0.0067, grad=0.0000)], [Var(v=0.0049, grad=0.0000)], [Var(v=0.0033, grad=0.0000)], [Var(v=0.0035, grad=0.0000)], [Var(v=0.0175, grad=0.0000)], [Var(v=0.0025, grad=0.0000)], [Var(v=0.0069, grad=0.0000)], [Var(v=0.0010, grad=0.0000)], [Var(v=0.0004, grad=0.0000)], [Var(v=0.0135, grad=0.0000)], [Var(v=0.0079, grad=0.0000)], [Var(v=0.0003, grad=0.0000)], [Var(v=0.0214, grad=0.0000)], [Var(v=0.0017, grad=0.0000)], [Var(v=0.0017, grad=0.0000)], [Var(v=0.0022, grad=0.0000)], [Var(v=0.0223, grad=0.0000)], [Var(v=0.0034, grad=0.0000)], [Var(v=0.0020, grad=0.0000)], [Var(v=0.0036, grad=0.0000)], [Var(v=0.0005, grad=0.0000)], [Var(v=0.0018, grad=0.0000)], [Var(v=0.0008, grad=0.0000)], [Var(v=0.0007, grad=0.0000)], [Var(v=0.0020, grad=0.0000)], [Var(v=0.0037, grad=0.0000)], [Var(v=0.0039, grad=0.0000)], [Var(v=0.0081, grad=0.0000)], [Var(v=0.0012, grad=0.0000)], [Var(v=0.0022, grad=0.0000)], [Var(v=0.0126, grad=0.0000)], [Var(v=0.0031, grad=0.0000)], [Var(v=0.0037, grad=0.0000)], [Var(v=0.0058, grad=0.0000)], [Var(v=0.0010, grad=0.0000)], [Var(v=0.0202, grad=0.0000)], [Var(v=0.0022, grad=0.0000)], [Var(v=0.0132, grad=0.0000)], [Var(v=0.0021, grad=0.0000)], [Var(v=0.0033, grad=0.0000)], [Var(v=0.0064, grad=0.0000)], [Var(v=0.0188, grad=0.0000)]]\n"
     ]
    }
   ],
   "source": [
    "NN = [\n",
    "    DenseLayer(1, 5, lambda x: x.relu()),\n",
    "    DenseLayer(5, 1, lambda x: x.identity())\n",
    "]\n",
    "\n",
    "def forward(input, network):\n",
    "\n",
    "  def forward_single(x, network):\n",
    "    for layer in network:\n",
    "        x = layer.forward(x)\n",
    "    return x[0]\n",
    "\n",
    "  output = [ forward_single(input[n], network) for n in range(len(input))]\n",
    "  return output\n",
    "\n",
    "print(forward(x_train, NN))\n"
   ]
  },
  {
   "cell_type": "markdown",
   "metadata": {
    "id": "oLrGJytZFtGm"
   },
   "source": [
    "## Exercise h) Print all network parameters\n",
    "\n",
    "Make a function that prints all the parameters of the network (weights and biases) with information about in which layer the appear. In the object oriented spirit you should introduce a method in the DenseLayer class to print the parameters of a layer. Hint: You can take inspiration from the corresponding method in Var. "
   ]
  },
  {
   "cell_type": "code",
   "execution_count": 22,
   "metadata": {
    "id": "iac-VwYGFtGm"
   },
   "outputs": [
    {
     "name": "stdout",
     "output_type": "stream",
     "text": [
      "\n",
      "layer 1:\n",
      "weights=[ 0.08223038  0.01206318 -0.02607138  0.00114049  0.13583691]\n",
      "biases=[0. 0. 0. 0. 0.]\n",
      "\n",
      "layer 2:\n",
      "weights=[0.08648974]\n",
      "biases=[0.]\n"
     ]
    }
   ],
   "source": [
    "# Insert code here and in the DenseLayer class\n",
    "def print_params(network: list[DenseLayer]) -> None:\n",
    "    for l, layer in enumerate(network, 1):\n",
    "        weights = layer.weights\n",
    "        biases = layer.bias\n",
    "        print(f\"\\nlayer {l}:\")\n",
    "        print(f\"weights={np.array([v.v for v in weights[0]])}\")\n",
    "        print(f\"biases={np.array([v.v for v in biases])}\")\n",
    "\n",
    "print_params(NN)"
   ]
  },
  {
   "cell_type": "markdown",
   "metadata": {
    "id": "_79HOAXrFtHK"
   },
   "source": [
    "## Visualization\n",
    "\n",
    "Now that we have defined our activation functions we can visualize them to see what they look like:"
   ]
  },
  {
   "cell_type": "code",
   "execution_count": 23,
   "metadata": {
    "id": "1FcylHqLTl-Z"
   },
   "outputs": [
    {
     "data": {
      "text/plain": [
       "[<matplotlib.lines.Line2D at 0x10e007820>]"
      ]
     },
     "execution_count": 23,
     "metadata": {},
     "output_type": "execute_result"
    },
    {
     "data": {
      "image/png": "[encoded data removed]",
      "text/plain": [
       "<Figure size 640x480 with 1 Axes>"
      ]
     },
     "metadata": {},
     "output_type": "display_data"
    }
   ],
   "source": [
    "x = np.linspace(-6, 6, 100)\n",
    "\n",
    "# convert from Var to ndarray  \n",
    "def Var_to_nparray(x):\n",
    "  y = np.zeros((len(x),len(x[0])))\n",
    "  for i in range(len(x)):\n",
    "    for j in range(len(x[0])):\n",
    "      y[i,j] = x[i][j].v\n",
    "  return y\n",
    "\n",
    "# define 1-1 network with weight = 1 and relu activation \n",
    "NN = [ DenseLayer(1, 1, lambda x: x.relu(), initializer = ConstantInitializer(1.0)) ] \n",
    "y = Var_to_nparray(forward(nparray_to_Var(x), NN))\n",
    "\n",
    "#y = Var_to_nparray(relu(nparray_to_Var(x)))\n",
    "plt.plot(x,y)"
   ]
  },
  {
   "cell_type": "code",
   "execution_count": 24,
   "metadata": {
    "id": "oOL2UolJFtHL"
   },
   "outputs": [
    {
     "data": {
      "image/png": "[encoded data removed]",
      "text/plain": [
       "<Figure size 500x500 with 1 Axes>"
      ]
     },
     "metadata": {},
     "output_type": "display_data"
    }
   ],
   "source": [
    "# Testing all activation layers\n",
    "\n",
    "x = np.linspace(-6, 6, 100)\n",
    "units = {\n",
    "    \"identity\": lambda x: x.identity(),\n",
    "    \"sigmoid\": lambda x: x.sigmoid(),\n",
    "    \"relu\": lambda x: x.relu(),\n",
    "    \"tanh\": lambda x: x.tanh()\n",
    "}\n",
    "\n",
    "plt.figure(figsize=(5, 5))\n",
    "[plt.plot(x, Var_to_nparray(forward(nparray_to_Var(x), [DenseLayer(1, 1, unit, initializer = ConstantInitializer(1.0))]) ), label=unit_name, lw=2) for unit_name, unit in units.items()] # unit(nparray_to_Var(x))), label=unit_name, lw=2) for unit_name, unit in units.items()]\n",
    "plt.legend(loc=2, fontsize=16)\n",
    "plt.title('Our activation functions', fontsize=20)\n",
    "plt.ylim([-2, 5])\n",
    "plt.xlim([-6, 6])\n",
    "plt.show()"
   ]
  },
  {
   "cell_type": "markdown",
   "metadata": {
    "id": "b-jdEl-7FtGs"
   },
   "source": [
    "# Advanced initialization schemes\n",
    "\n",
    "If we are not careful with initialization, the signals we propagate forward ($a^{(l)}$, $l=1,\\ldots,L$) and backward ($\\delta^l$, $l=L,L-1,\\ldots,1$) can blow up or shrink to zero. A statistical analysis of the variance of the signals for different activation functions can be found in these two papers: [Glorot initialization](http://proceedings.mlr.press/v9/glorot10a/glorot10a.pdf) and [He initialization](https://arxiv.org/pdf/1502.01852v1.pdf). \n",
    "\n",
    "The result of the analyses are proposals for how to make the initialization such that the variance of the signals (forward and backward) are kept approxmimatly constant when propagating from layer to layer. The exact expressions depend upon the non-linear activation function used. In Glorot initialization, the aim is to keep both the forward and backward variances constant whereas He only aims at keeping the variance in the forward pass constant.\n",
    "\n",
    "We define $n_{in}$ and $n_{out}$ as the number of input units and output units of a particular layer. \n",
    "\n",
    "The Glorot initialization has the form: \n",
    "\n",
    "$$w_{ij} \\sim N \\bigg( 0, \\, \\frac{2 \\alpha }{n_{in} + n_{out}} \\bigg) \\ . $$\n",
    "\n",
    "where $N(\\mu,\\sigma^2)$ is a Gaussian distribution with mean $\\mu$ and variance $\\sigma^2$ and $\\alpha$ is a parameter that depends upon the activation function used. For $\\tanh$, $\\alpha=1$ and for Rectified Linear Unit (ReLU) activations, $\\alpha=2$. (It is also possible to use a uniform distribution for initialization, see [this blog post](https://mmuratarat.github.io/2019-02-25/xavier-glorot-he-weight-init).) \n",
    "\n",
    "The He initialization is very similar\n",
    "\n",
    "$$w_{ij} \\sim N \\bigg( 0, \\, \\frac{\\alpha}{n_{in}} \\bigg) \\ . $$"
   ]
  },
  {
   "cell_type": "markdown",
   "metadata": {
    "id": "mqeyab9qFtGs"
   },
   "source": [
    "## Exercise i) Glorot and He initialization\n",
    " \n",
    "Using the Initializer class, implement functions that implement Glorot and He \n",
    "\n",
    "Explain briefly how you would test numerically that these initializations have the sought after property. Hint: See plots in Glorot paper.\n",
    "\n",
    "Comment: If you want to be more advanced then try to make a universal initializer taking both the activation function and type (Glorot or He) as argument."
   ]
  },
  {
   "cell_type": "code",
   "execution_count": 44,
   "metadata": {
    "id": "Qyk01CgaFtGt"
   },
   "outputs": [],
   "source": [
    "## Glorot\n",
    "def DenseLayer_Glorot_tanh(n_in: int, n_out: int):\n",
    "  std = 1.0 # <- replace with proper initialization\n",
    "  return DenseLayer(n_in, n_out, lambda x: x.tanh(), initializer = NormalInitializer(std))\n",
    "\n",
    "## He\n",
    "def DenseLayer_He_relu(n_in: int, n_out: int):\n",
    "  std = 0.0 # <- replace with proper initialization\n",
    "  return DenseLayer(n_in, n_out, lambda x: x.relu(), initializer = NormalInitializer(std))"
   ]
  },
  {
   "cell_type": "markdown",
   "metadata": {
    "id": "-XyXBD37FtHk"
   },
   "source": [
    "## Exercise j) Forward pass unit test\n",
    "\n",
    "Write a bit of code to make a unit test that the forward pass works. This can be done by defining a simple network with for example all weights equal to one (using the ConstantInitializer method) and identity activation functions. \n",
    "\n",
    "Hints: Use the [assert](https://www.w3schools.com/python/ref_keyword_assert.asp), the nparray_to_Var and the Var_to_nparray commands. "
   ]
  },
  {
   "cell_type": "code",
   "execution_count": 68,
   "metadata": {
    "id": "k0miqRUAFtHl"
   },
   "outputs": [],
   "source": [
    "# Insert code here\n",
    "def unit_test() -> None:\n",
    "    x = np.linspace(-6, 6, 100)\n",
    "    NN = [ DenseLayer(1, 1, lambda x: x.identity(), initializer = ConstantInitializer(1.0)) ] \n",
    "    y = Var_to_nparray(forward(nparray_to_Var(x), NN))\n",
    "\n",
    "    plt.plot(x,y)\n",
    "    assert x == y"
   ]
  },
  {
   "cell_type": "markdown",
   "metadata": {
    "id": "faCxhfFnFtHp"
   },
   "source": [
    "# Loss functions\n",
    "\n",
    "We are only missing a loss function to we need to define a loss function and its derivative with respect to the output of the neural network $y$"
   ]
  },
  {
   "cell_type": "code",
   "execution_count": 46,
   "metadata": {
    "id": "I2eDYKvAFtHq"
   },
   "outputs": [],
   "source": [
    "def squared_loss(t, y):\n",
    "  \n",
    "  # add check that sizes agree\n",
    "  \n",
    "  def squared_loss_single(t, y):\n",
    "    Loss = Var(0.0)\n",
    "    for i in range(len(t)): # sum over outputs\n",
    "      Loss += (t[i]-y[i]) ** 2\n",
    "    return Loss\n",
    "\n",
    "  Loss = Var(0.0)\n",
    "  for n in range(len(t)): # sum over training data\n",
    "    Loss += squared_loss_single(t[n],y[n])\n",
    "  return Loss"
   ]
  },
  {
   "cell_type": "markdown",
   "metadata": {
    "id": "SrwSJ2UWFtHu"
   },
   "source": [
    "## Exercise k) Implement cross entropy loss\n",
    "\n",
    "Insert code below to implement cross-entropy loss for general dimensionality of $t$. Use a logits formulation:\n",
    "$$\n",
    "\\rm{Loss} = - \\sum_i t_i \\, log \\, p_i \n",
    "$$\n",
    "with $p$ given by the the softmax function in terms of the logits $h$:\n",
    "$$\n",
    "p_i = \\frac{\\exp(h_i)}{\\sum_{i'} \\exp(h_{i'})} .\n",
    "$$\n",
    "Inserting $p$ in the expression for the loss gives\n",
    "$$\n",
    "\\rm{Loss} = - \\sum_i t_i h_i + \\rm{LogSumExp}(h) \\ ,\n",
    "$$\n",
    "where \n",
    "$$\n",
    "\\rm{LogSumExp}(h) = \\log \\sum_i \\exp h_i \\ .\n",
    "$$\n",
    "This is true for $t$ being a one-hot vector. \n",
    "\n",
    "Call the function to convince yourself it works. \n",
    "\n",
    "In practice you want to implement a [numerically stable](https://leimao.github.io/blog/LogSumExp/) version of LogSumExp. But we will not bother about that here.\n",
    "\n",
    "Help: You can add these methods in the Var class:\n",
    "\n",
    "    def exp(self):\n",
    "        return Var(exp(self.v), lambda: [(self, exp(self.v))])\n",
    "    \n",
    "    def log(self):\n",
    "        return Var(log(self.v), lambda: [(self, self.v ** -1)])"
   ]
  },
  {
   "cell_type": "code",
   "execution_count": 47,
   "metadata": {
    "id": "6nMuxyfzFtHv"
   },
   "outputs": [],
   "source": [
    "def cross_entropy_loss(t, h):\n",
    "     \n",
    "    Loss = Var(0.0)\n",
    "    # Insert code here\n",
    "    return Loss"
   ]
  },
  {
   "cell_type": "markdown",
   "metadata": {
    "id": "8fAF5ew4FtHy"
   },
   "source": [
    "# Backward pass\n",
    "\n",
    "Now the magic happens! We get the calculation of the gradients for free. Just do:"
   ]
  },
  {
   "cell_type": "code",
   "execution_count": 48,
   "metadata": {
    "id": "iHyfPPI9Qqwu"
   },
   "outputs": [],
   "source": [
    "NN = [\n",
    "    DenseLayer(1, 5, lambda x: x.relu()),\n",
    "    DenseLayer(5, 1, lambda x: x.identity())\n",
    "]\n",
    "\n",
    "output = forward(x_train, NN)\n",
    "\n",
    "Loss = squared_loss(y_train,output)\n",
    "Loss.backward()"
   ]
  },
  {
   "cell_type": "markdown",
   "metadata": {
    "id": "49biIAYKQ1oG"
   },
   "source": [
    "and the gradients will be calculated:"
   ]
  },
  {
   "cell_type": "code",
   "execution_count": 49,
   "metadata": {
    "id": "_rGt1bq_Q7uk"
   },
   "outputs": [
    {
     "name": "stdout",
     "output_type": "stream",
     "text": [
      "Layer 0 \n",
      " Weights: [[Var(v=-0.1185, grad=8.2590), Var(v=0.0635, grad=22.5198), Var(v=0.0418, grad=-16.7751), Var(v=0.0155, grad=6.6883), Var(v=0.0921, grad=15.7845)]] Biases: [Var(v=0.0000, grad=0.0000), Var(v=0.0000, grad=0.0000), Var(v=0.0000, grad=0.0000), Var(v=0.0000, grad=0.0000), Var(v=0.0000, grad=0.0000)]\n",
      "Layer 1 \n",
      " Weights: [[Var(v=-0.0870, grad=11.2505)], [Var(v=-0.2165, grad=-6.6030)], [Var(v=0.1613, grad=-4.3495)], [Var(v=-0.0643, grad=-1.6075)], [Var(v=-0.1518, grad=-9.5767)]] Biases: [Var(v=0.0000, grad=0.0000)]\n"
     ]
    },
    {
     "data": {
      "text/plain": [
       "[None, None]"
      ]
     },
     "execution_count": 49,
     "metadata": {},
     "output_type": "execute_result"
    }
   ],
   "source": [
    "[print('Layer', i, '\\n', NN[i]) for i in range(len(NN))] "
   ]
  },
  {
   "cell_type": "markdown",
   "metadata": {
    "id": "D7d7qK0uFtH9"
   },
   "source": [
    "# Backward pass unit test\n",
    "\n",
    "Above we used finite differences to test that Nanograd is actually doing what it is supposed to do. We can in principle try the same for the neural network. But we will trust that the test above is enough."
   ]
  },
  {
   "cell_type": "markdown",
   "metadata": {
    "id": "WgBi8GOSFtIN"
   },
   "source": [
    "# Training and validation\n",
    "\n",
    "We are ready to train some neural networks!\n",
    "\n",
    "We initialize again:"
   ]
  },
  {
   "cell_type": "code",
   "execution_count": 50,
   "metadata": {
    "id": "01ePmzBzRtdh"
   },
   "outputs": [],
   "source": [
    "NN = [\n",
    "    DenseLayer(1, 15, lambda x: x.relu()),\n",
    "    DenseLayer(15, 50, lambda x: x.relu()),\n",
    "    DenseLayer(50, 1, lambda x: x.identity())\n",
    "]\n",
    "\n",
    "output = forward(x_train, NN)\n",
    "\n",
    "Loss = squared_loss(y_train,output)\n",
    "Loss.backward()"
   ]
  },
  {
   "cell_type": "markdown",
   "metadata": {
    "id": "10iRPiQ1ISHw"
   },
   "source": [
    "and make an update:\n",
    "\n",
    "We introduce a help function parameters to have a handle in all parameters in the network."
   ]
  },
  {
   "cell_type": "code",
   "execution_count": 51,
   "metadata": {
    "id": "dhAI7eyeznia"
   },
   "outputs": [
    {
     "name": "stdout",
     "output_type": "stream",
     "text": [
      "Network before update:\n",
      "Layer 0 \n",
      " Weights: [[Var(v=-0.0066, grad=-0.4308), Var(v=0.1398, grad=-0.5024), Var(v=-0.1174, grad=-3.2787), Var(v=-0.1263, grad=-1.0189), Var(v=0.0027, grad=-0.2627), Var(v=0.0459, grad=1.6935), Var(v=0.0715, grad=-1.8240), Var(v=-0.1179, grad=-0.5346), Var(v=0.2478, grad=4.2811), Var(v=0.2358, grad=1.5812), Var(v=-0.0082, grad=0.7336), Var(v=-0.0619, grad=-2.5118), Var(v=-0.0701, grad=1.6557), Var(v=-0.0312, grad=7.5221), Var(v=-0.0375, grad=-1.1329)]] Biases: [Var(v=0.0000, grad=0.0000), Var(v=0.0000, grad=0.0000), Var(v=0.0000, grad=0.0000), Var(v=0.0000, grad=0.0000), Var(v=0.0000, grad=0.0000), Var(v=0.0000, grad=0.0000), Var(v=0.0000, grad=0.0000), Var(v=0.0000, grad=0.0000), Var(v=0.0000, grad=0.0000), Var(v=0.0000, grad=0.0000), Var(v=0.0000, grad=0.0000), Var(v=0.0000, grad=0.0000), Var(v=0.0000, grad=0.0000), Var(v=0.0000, grad=0.0000), Var(v=0.0000, grad=0.0000)]\n",
      "Layer 1 \n",
      " Weights: [[Var(v=-0.1101, grad=0.0000), Var(v=0.0682, grad=0.0000), Var(v=0.0770, grad=0.0000), Var(v=-0.0665, grad=0.0000), Var(v=0.0782, grad=0.0000), Var(v=-0.0944, grad=0.0000), Var(v=0.1842, grad=-0.0045), Var(v=0.0736, grad=0.0000), Var(v=-0.0716, grad=0.0000), Var(v=-0.0695, grad=0.0043), Var(v=-0.0391, grad=-0.0844), Var(v=-0.1740, grad=0.0919), Var(v=0.0147, grad=-0.0569), Var(v=-0.1500, grad=0.0000), Var(v=-0.1063, grad=0.0000), Var(v=-0.0539, grad=0.0000), Var(v=-0.0543, grad=0.0000), Var(v=-0.1500, grad=-0.0305), Var(v=-0.0446, grad=0.0000), Var(v=-0.0026, grad=0.0000), Var(v=-0.0074, grad=0.0850), Var(v=0.0258, grad=0.0000), Var(v=-0.0228, grad=0.0000), Var(v=-0.1064, grad=0.0000), Var(v=0.0928, grad=0.0020), Var(v=0.0049, grad=0.0000), Var(v=0.2603, grad=0.0000), Var(v=0.0844, grad=0.0000), Var(v=-0.1810, grad=0.0000), Var(v=0.0616, grad=0.0000), Var(v=0.0517, grad=0.0000), Var(v=0.1243, grad=0.0000), Var(v=0.1188, grad=0.0000), Var(v=-0.0144, grad=0.0000), Var(v=-0.0130, grad=0.0818), Var(v=-0.0912, grad=-0.0439), Var(v=-0.0878, grad=0.0000), Var(v=0.0822, grad=0.0000), Var(v=0.1745, grad=0.1269), Var(v=0.1165, grad=0.0000), Var(v=0.0470, grad=-0.0178), Var(v=-0.0982, grad=0.0791), Var(v=0.0691, grad=-0.0432), Var(v=0.0501, grad=0.0000), Var(v=0.0012, grad=0.0000), Var(v=-0.2255, grad=0.0051), Var(v=-0.0862, grad=0.0000), Var(v=-0.0407, grad=-0.0363), Var(v=-0.0156, grad=0.0000), Var(v=-0.1215, grad=0.0040)], [Var(v=0.1500, grad=0.4855), Var(v=-0.0866, grad=0.0000), Var(v=0.0769, grad=-2.6002), Var(v=-0.1682, grad=0.0000), Var(v=0.0353, grad=2.3364), Var(v=-0.0177, grad=0.0000), Var(v=-0.0248, grad=0.0000), Var(v=0.2109, grad=-0.0550), Var(v=0.0445, grad=0.0000), Var(v=-0.0111, grad=-0.0987), Var(v=-0.0591, grad=0.0000), Var(v=0.0524, grad=0.0000), Var(v=0.0415, grad=1.2945), Var(v=-0.1679, grad=0.0000), Var(v=-0.1056, grad=0.0000), Var(v=0.0592, grad=-0.1056), Var(v=-0.0727, grad=0.0000), Var(v=-0.0995, grad=0.6935), Var(v=-0.1167, grad=0.2891), Var(v=0.2218, grad=0.6286), Var(v=0.0935, grad=-1.9333), Var(v=-0.1599, grad=0.0000), Var(v=-0.1341, grad=1.0404), Var(v=-0.1760, grad=0.0000), Var(v=-0.0605, grad=-0.0450), Var(v=0.0855, grad=-0.4009), Var(v=-0.0098, grad=0.0000), Var(v=0.0292, grad=-1.5612), Var(v=-0.2240, grad=0.0000), Var(v=0.0259, grad=0.0000), Var(v=0.1635, grad=-0.3099), Var(v=0.1013, grad=1.2393), Var(v=0.0633, grad=-0.7158), Var(v=0.0650, grad=2.6405), Var(v=-0.0677, grad=-1.8608), Var(v=-0.0627, grad=0.9985), Var(v=-0.0750, grad=0.0000), Var(v=-0.0624, grad=0.0000), Var(v=0.0322, grad=0.0000), Var(v=-0.0999, grad=0.0000), Var(v=-0.0697, grad=0.4040), Var(v=-0.0731, grad=-1.7995), Var(v=-0.0858, grad=0.0000), Var(v=-0.1246, grad=0.0000), Var(v=-0.1896, grad=0.0000), Var(v=0.1812, grad=-0.1166), Var(v=0.1461, grad=0.3984), Var(v=-0.1293, grad=0.8257), Var(v=-0.1359, grad=0.0000), Var(v=-0.0423, grad=0.0000)], [Var(v=-0.0890, grad=0.0000), Var(v=-0.0178, grad=0.0000), Var(v=0.1890, grad=0.0000), Var(v=-0.1122, grad=0.0000), Var(v=-0.0461, grad=0.0000), Var(v=-0.0231, grad=0.0000), Var(v=0.0516, grad=-0.0798), Var(v=-0.1211, grad=0.0000), Var(v=-0.1587, grad=0.0000), Var(v=0.1247, grad=0.0777), Var(v=0.2006, grad=-1.5099), Var(v=0.0367, grad=1.6429), Var(v=-0.0456, grad=-1.0180), Var(v=-0.1245, grad=0.0000), Var(v=-0.0546, grad=0.0000), Var(v=0.0277, grad=0.0000), Var(v=-0.1115, grad=0.0000), Var(v=-0.0492, grad=-0.5453), Var(v=-0.0494, grad=0.0000), Var(v=-0.0243, grad=0.0000), Var(v=0.0366, grad=1.5203), Var(v=-0.0163, grad=0.0000), Var(v=-0.1270, grad=0.0000), Var(v=-0.1590, grad=0.0000), Var(v=0.0382, grad=0.0354), Var(v=0.0157, grad=0.0000), Var(v=0.0160, grad=0.0000), Var(v=0.0864, grad=0.0000), Var(v=-0.1591, grad=0.0000), Var(v=-0.1828, grad=0.0000), Var(v=-0.0698, grad=0.0000), Var(v=0.0296, grad=0.0000), Var(v=0.0396, grad=0.0000), Var(v=-0.0012, grad=0.0000), Var(v=-0.0455, grad=1.4633), Var(v=0.0534, grad=-0.7852), Var(v=0.1358, grad=0.0000), Var(v=0.0211, grad=0.0000), Var(v=0.1503, grad=2.2691), Var(v=-0.0205, grad=0.0000), Var(v=0.1273, grad=-0.3177), Var(v=0.2383, grad=1.4150), Var(v=-0.0023, grad=-0.7720), Var(v=0.0389, grad=0.0000), Var(v=0.1235, grad=0.0000), Var(v=0.0694, grad=0.0917), Var(v=-0.2416, grad=0.0000), Var(v=0.0765, grad=-0.6493), Var(v=-0.1369, grad=0.0000), Var(v=0.0545, grad=0.0713)], [Var(v=-0.0090, grad=0.0000), Var(v=0.0188, grad=0.0000), Var(v=0.0123, grad=0.0000), Var(v=0.1267, grad=0.0000), Var(v=-0.1032, grad=0.0000), Var(v=-0.0374, grad=0.0000), Var(v=0.1116, grad=-0.0858), Var(v=-0.0526, grad=0.0000), Var(v=0.0420, grad=0.0000), Var(v=0.0198, grad=0.0836), Var(v=-0.0333, grad=-1.6248), Var(v=0.0097, grad=1.7679), Var(v=0.0931, grad=-1.0954), Var(v=0.0276, grad=0.0000), Var(v=0.1453, grad=0.0000), Var(v=-0.1689, grad=0.0000), Var(v=0.0815, grad=0.0000), Var(v=-0.0408, grad=-0.5868), Var(v=-0.0488, grad=0.0000), Var(v=-0.1344, grad=0.0000), Var(v=0.0812, grad=1.6360), Var(v=-0.0464, grad=0.0000), Var(v=0.0851, grad=0.0000), Var(v=-0.1434, grad=0.0000), Var(v=0.0884, grad=0.0381), Var(v=-0.0704, grad=0.0000), Var(v=-0.0814, grad=0.0000), Var(v=0.0686, grad=0.0000), Var(v=0.1206, grad=0.0000), Var(v=-0.0566, grad=0.0000), Var(v=-0.0049, grad=0.0000), Var(v=0.0453, grad=0.0000), Var(v=-0.0310, grad=0.0000), Var(v=-0.0994, grad=0.0000), Var(v=-0.0706, grad=1.5746), Var(v=0.0787, grad=-0.8449), Var(v=-0.2179, grad=0.0000), Var(v=-0.1878, grad=0.0000), Var(v=0.0173, grad=2.4418), Var(v=0.0340, grad=0.0000), Var(v=0.1067, grad=-0.3418), Var(v=0.1683, grad=1.5227), Var(v=0.0857, grad=-0.8307), Var(v=-0.0369, grad=0.0000), Var(v=-0.0390, grad=0.0000), Var(v=0.0497, grad=0.0986), Var(v=-0.0630, grad=0.0000), Var(v=0.0280, grad=-0.6987), Var(v=-0.0461, grad=0.0000), Var(v=0.1143, grad=0.0767)], [Var(v=0.0439, grad=0.0095), Var(v=0.0441, grad=0.0000), Var(v=0.0086, grad=-0.0510), Var(v=0.1530, grad=0.0000), Var(v=-0.0673, grad=0.0458), Var(v=-0.0461, grad=0.0000), Var(v=-0.0221, grad=0.0000), Var(v=0.1184, grad=-0.0011), Var(v=-0.1363, grad=0.0000), Var(v=0.1986, grad=-0.0019), Var(v=0.0976, grad=0.0000), Var(v=-0.0098, grad=0.0000), Var(v=0.0287, grad=0.0254), Var(v=0.1112, grad=0.0000), Var(v=-0.0108, grad=0.0000), Var(v=-0.0642, grad=-0.0021), Var(v=-0.0019, grad=0.0000), Var(v=-0.0118, grad=0.0136), Var(v=0.2053, grad=0.0057), Var(v=-0.0015, grad=0.0123), Var(v=0.1607, grad=-0.0379), Var(v=-0.2251, grad=0.0000), Var(v=0.1302, grad=0.0204), Var(v=0.1525, grad=0.0000), Var(v=-0.0399, grad=-0.0009), Var(v=0.1865, grad=-0.0079), Var(v=-0.0972, grad=0.0000), Var(v=-0.1413, grad=-0.0306), Var(v=0.1252, grad=0.0000), Var(v=0.0504, grad=0.0000), Var(v=0.0072, grad=-0.0061), Var(v=0.0067, grad=0.0243), Var(v=0.3086, grad=-0.0140), Var(v=0.0288, grad=0.0518), Var(v=-0.0609, grad=-0.0365), Var(v=0.0792, grad=0.0196), Var(v=0.0134, grad=0.0000), Var(v=0.0999, grad=0.0000), Var(v=0.0087, grad=0.0000), Var(v=-0.0104, grad=0.0000), Var(v=-0.1186, grad=0.0079), Var(v=-0.0423, grad=-0.0353), Var(v=-0.0761, grad=0.0000), Var(v=-0.1894, grad=0.0000), Var(v=0.0107, grad=0.0000), Var(v=0.0585, grad=-0.0023), Var(v=0.0647, grad=0.0078), Var(v=-0.0238, grad=0.0162), Var(v=0.1681, grad=0.0000), Var(v=0.0461, grad=0.0000)], [Var(v=-0.0076, grad=0.1593), Var(v=-0.0677, grad=0.0000), Var(v=0.0504, grad=-0.8531), Var(v=-0.1466, grad=0.0000), Var(v=-0.0354, grad=0.7665), Var(v=0.1056, grad=0.0000), Var(v=0.0352, grad=0.0000), Var(v=0.0694, grad=-0.0181), Var(v=0.1317, grad=0.0000), Var(v=0.2613, grad=-0.0324), Var(v=0.0946, grad=0.0000), Var(v=-0.0512, grad=0.0000), Var(v=-0.0470, grad=0.4247), Var(v=-0.0783, grad=0.0000), Var(v=-0.0210, grad=0.0000), Var(v=0.0788, grad=-0.0346), Var(v=-0.0190, grad=0.0000), Var(v=-0.1462, grad=0.2275), Var(v=-0.0253, grad=0.0948), Var(v=0.0045, grad=0.2062), Var(v=-0.1541, grad=-0.6343), Var(v=-0.1409, grad=0.0000), Var(v=-0.0140, grad=0.3413), Var(v=0.0508, grad=0.0000), Var(v=-0.0168, grad=-0.0148), Var(v=0.0903, grad=-0.1315), Var(v=-0.1653, grad=0.0000), Var(v=-0.1071, grad=-0.5122), Var(v=0.0979, grad=0.0000), Var(v=-0.0323, grad=0.0000), Var(v=0.1111, grad=-0.1017), Var(v=0.0382, grad=0.4066), Var(v=-0.1963, grad=-0.2348), Var(v=0.1125, grad=0.8663), Var(v=0.2133, grad=-0.6105), Var(v=0.0277, grad=0.3276), Var(v=0.0538, grad=0.0000), Var(v=0.0894, grad=0.0000), Var(v=0.0565, grad=0.0000), Var(v=0.1996, grad=0.0000), Var(v=-0.0394, grad=0.1325), Var(v=-0.0862, grad=-0.5904), Var(v=0.0477, grad=0.0000), Var(v=-0.0550, grad=0.0000), Var(v=0.0664, grad=0.0000), Var(v=-0.3446, grad=-0.0382), Var(v=0.0690, grad=0.1307), Var(v=-0.0535, grad=0.2709), Var(v=0.1675, grad=0.0000), Var(v=0.0293, grad=0.0000)], [Var(v=0.1737, grad=0.2483), Var(v=-0.1264, grad=0.0000), Var(v=0.0736, grad=-1.3298), Var(v=0.0291, grad=0.0000), Var(v=0.0402, grad=1.1949), Var(v=-0.0329, grad=0.0000), Var(v=0.0474, grad=0.0000), Var(v=-0.0451, grad=-0.0281), Var(v=0.1922, grad=0.0000), Var(v=0.1100, grad=-0.0505), Var(v=-0.1146, grad=0.0000), Var(v=-0.0291, grad=0.0000), Var(v=0.0078, grad=0.6621), Var(v=-0.0911, grad=0.0000), Var(v=0.0413, grad=0.0000), Var(v=0.0095, grad=-0.0540), Var(v=0.2681, grad=0.0000), Var(v=-0.1201, grad=0.3547), Var(v=0.0237, grad=0.1479), Var(v=-0.1815, grad=0.3215), Var(v=-0.0011, grad=-0.9887), Var(v=-0.0189, grad=0.0000), Var(v=0.1562, grad=0.5321), Var(v=-0.1089, grad=0.0000), Var(v=0.2460, grad=-0.0230), Var(v=-0.0134, grad=-0.2050), Var(v=-0.0484, grad=0.0000), Var(v=-0.1187, grad=-0.7984), Var(v=0.1512, grad=0.0000), Var(v=0.0661, grad=0.0000), Var(v=0.0671, grad=-0.1585), Var(v=0.0352, grad=0.6338), Var(v=0.0418, grad=-0.3661), Var(v=-0.0428, grad=1.3504), Var(v=0.0537, grad=-0.9517), Var(v=0.1244, grad=0.5106), Var(v=-0.0735, grad=0.0000), Var(v=-0.0494, grad=0.0000), Var(v=0.1408, grad=0.0000), Var(v=-0.0974, grad=0.0000), Var(v=-0.0350, grad=0.2066), Var(v=0.1611, grad=-0.9203), Var(v=0.1328, grad=0.0000), Var(v=-0.1872, grad=0.0000), Var(v=-0.0149, grad=0.0000), Var(v=-0.0674, grad=-0.0596), Var(v=-0.0611, grad=0.2038), Var(v=0.0246, grad=0.4223), Var(v=0.0585, grad=0.0000), Var(v=-0.1142, grad=0.0000)], [Var(v=0.0742, grad=0.0000), Var(v=-0.0501, grad=0.0000), Var(v=-0.2022, grad=0.0000), Var(v=-0.1219, grad=0.0000), Var(v=0.1072, grad=0.0000), Var(v=-0.0715, grad=0.0000), Var(v=0.0196, grad=-0.0801), Var(v=-0.1901, grad=0.0000), Var(v=-0.1435, grad=0.0000), Var(v=0.0099, grad=0.0780), Var(v=0.1444, grad=-1.5162), Var(v=0.0167, grad=1.6497), Var(v=-0.0871, grad=-1.0222), Var(v=-0.2568, grad=0.0000), Var(v=-0.0196, grad=0.0000), Var(v=-0.0065, grad=0.0000), Var(v=-0.0850, grad=0.0000), Var(v=0.0549, grad=-0.5476), Var(v=0.0894, grad=0.0000), Var(v=0.0083, grad=0.0000), Var(v=-0.1187, grad=1.5266), Var(v=-0.0356, grad=0.0000), Var(v=-0.0764, grad=0.0000), Var(v=-0.0657, grad=0.0000), Var(v=-0.0350, grad=0.0355), Var(v=0.0828, grad=0.0000), Var(v=-0.0020, grad=0.0000), Var(v=-0.1307, grad=0.0000), Var(v=-0.0237, grad=0.0000), Var(v=0.1105, grad=0.0000), Var(v=0.0996, grad=0.0000), Var(v=-0.1699, grad=0.0000), Var(v=-0.0370, grad=0.0000), Var(v=-0.0546, grad=0.0000), Var(v=0.1709, grad=1.4693), Var(v=0.0237, grad=-0.7884), Var(v=-0.0559, grad=0.0000), Var(v=0.0096, grad=0.0000), Var(v=-0.0051, grad=2.2785), Var(v=-0.0434, grad=0.0000), Var(v=0.0429, grad=-0.3190), Var(v=0.1112, grad=1.4209), Var(v=-0.0392, grad=-0.7752), Var(v=-0.0539, grad=0.0000), Var(v=-0.1264, grad=0.0000), Var(v=0.0310, grad=0.0920), Var(v=0.0122, grad=0.0000), Var(v=0.0524, grad=-0.6520), Var(v=-0.1354, grad=0.0000), Var(v=0.2002, grad=0.0716)], [Var(v=0.0037, grad=0.8606), Var(v=0.0721, grad=0.0000), Var(v=-0.1894, grad=-4.6095), Var(v=-0.0067, grad=0.0000), Var(v=0.0534, grad=4.1417), Var(v=0.1688, grad=0.0000), Var(v=-0.0353, grad=0.0000), Var(v=-0.0783, grad=-0.0976), Var(v=-0.0812, grad=0.0000), Var(v=0.2128, grad=-0.1751), Var(v=0.0112, grad=0.0000), Var(v=0.0443, grad=0.0000), Var(v=0.0544, grad=2.2949), Var(v=-0.0302, grad=0.0000), Var(v=-0.0287, grad=0.0000), Var(v=0.0751, grad=-0.1872), Var(v=-0.0711, grad=0.0000), Var(v=0.0683, grad=1.2293), Var(v=0.0333, grad=0.5125), Var(v=-0.0062, grad=1.1142), Var(v=0.0319, grad=-3.4272), Var(v=-0.0855, grad=0.0000), Var(v=0.0395, grad=1.8443), Var(v=0.0194, grad=0.0000), Var(v=0.2869, grad=-0.0797), Var(v=0.2260, grad=-0.7106), Var(v=-0.0648, grad=0.0000), Var(v=0.1113, grad=-2.7675), Var(v=0.1481, grad=0.0000), Var(v=-0.0434, grad=0.0000), Var(v=-0.0187, grad=-0.5493), Var(v=0.0308, grad=2.1969), Var(v=0.0747, grad=-1.2689), Var(v=-0.0535, grad=4.6809), Var(v=0.0348, grad=-3.2987), Var(v=0.0896, grad=1.7700), Var(v=-0.0066, grad=0.0000), Var(v=-0.0260, grad=0.0000), Var(v=-0.1318, grad=0.0000), Var(v=-0.0562, grad=0.0000), Var(v=0.2011, grad=0.7161), Var(v=-0.0888, grad=-3.1900), Var(v=-0.0523, grad=0.0000), Var(v=0.1241, grad=0.0000), Var(v=0.1225, grad=0.0000), Var(v=-0.0820, grad=-0.2066), Var(v=0.0778, grad=0.7063), Var(v=0.0275, grad=1.4638), Var(v=-0.0771, grad=0.0000), Var(v=-0.0009, grad=0.0000)], [Var(v=0.0066, grad=0.8188), Var(v=-0.0784, grad=0.0000), Var(v=0.1614, grad=-4.3853), Var(v=-0.1699, grad=0.0000), Var(v=0.0833, grad=3.9403), Var(v=-0.1807, grad=0.0000), Var(v=0.0221, grad=0.0000), Var(v=0.0225, grad=-0.0928), Var(v=-0.0866, grad=0.0000), Var(v=0.0888, grad=-0.1665), Var(v=-0.2696, grad=0.0000), Var(v=-0.0866, grad=0.0000), Var(v=-0.0090, grad=2.1833), Var(v=-0.0442, grad=0.0000), Var(v=-0.1293, grad=0.0000), Var(v=0.0562, grad=-0.1781), Var(v=0.0280, grad=0.0000), Var(v=0.1227, grad=1.1695), Var(v=0.1929, grad=0.4876), Var(v=-0.0022, grad=1.0601), Var(v=-0.0024, grad=-3.2606), Var(v=-0.0087, grad=0.0000), Var(v=0.0772, grad=1.7546), Var(v=0.0472, grad=0.0000), Var(v=-0.0539, grad=-0.0759), Var(v=-0.0170, grad=-0.6761), Var(v=-0.1058, grad=0.0000), Var(v=0.0122, grad=-2.6329), Var(v=-0.1146, grad=0.0000), Var(v=-0.0167, grad=0.0000), Var(v=-0.0238, grad=-0.5226), Var(v=0.0969, grad=2.0901), Var(v=0.0232, grad=-1.2072), Var(v=0.0126, grad=4.4533), Var(v=-0.0078, grad=-3.1383), Var(v=0.1736, grad=1.6839), Var(v=-0.0015, grad=0.0000), Var(v=-0.1003, grad=0.0000), Var(v=0.0642, grad=0.0000), Var(v=0.0838, grad=0.0000), Var(v=-0.0816, grad=0.6813), Var(v=0.1291, grad=-3.0349), Var(v=-0.1680, grad=0.0000), Var(v=-0.0806, grad=0.0000), Var(v=-0.0702, grad=0.0000), Var(v=0.2107, grad=-0.1966), Var(v=0.1202, grad=0.6720), Var(v=0.2012, grad=1.3926), Var(v=-0.0460, grad=0.0000), Var(v=-0.1083, grad=0.0000)], [Var(v=-0.2400, grad=0.0000), Var(v=0.1885, grad=0.0000), Var(v=0.1523, grad=0.0000), Var(v=0.0577, grad=0.0000), Var(v=0.0514, grad=0.0000), Var(v=-0.0833, grad=0.0000), Var(v=-0.0643, grad=-0.0056), Var(v=0.0071, grad=0.0000), Var(v=0.0514, grad=0.0000), Var(v=0.0876, grad=0.0054), Var(v=-0.0529, grad=-0.1055), Var(v=0.1480, grad=0.1148), Var(v=-0.0067, grad=-0.0711), Var(v=-0.0912, grad=0.0000), Var(v=-0.1347, grad=0.0000), Var(v=-0.2544, grad=0.0000), Var(v=0.0908, grad=0.0000), Var(v=-0.0114, grad=-0.0381), Var(v=-0.1813, grad=0.0000), Var(v=0.0666, grad=0.0000), Var(v=-0.2322, grad=0.1063), Var(v=-0.0179, grad=0.0000), Var(v=-0.0152, grad=0.0000), Var(v=0.0078, grad=0.0000), Var(v=0.0260, grad=0.0025), Var(v=-0.0660, grad=0.0000), Var(v=0.1277, grad=0.0000), Var(v=-0.0482, grad=0.0000), Var(v=-0.0030, grad=0.0000), Var(v=-0.1738, grad=0.0000), Var(v=-0.0793, grad=0.0000), Var(v=0.1604, grad=0.0000), Var(v=-0.2648, grad=0.0000), Var(v=-0.0311, grad=0.0000), Var(v=-0.2062, grad=0.1023), Var(v=-0.0563, grad=-0.0549), Var(v=-0.0332, grad=0.0000), Var(v=0.0123, grad=0.0000), Var(v=0.0420, grad=0.1586), Var(v=-0.1116, grad=0.0000), Var(v=0.0116, grad=-0.0222), Var(v=0.0512, grad=0.0989), Var(v=-0.0854, grad=-0.0540), Var(v=0.0444, grad=0.0000), Var(v=0.1061, grad=0.0000), Var(v=-0.0655, grad=0.0064), Var(v=-0.0050, grad=0.0000), Var(v=0.0795, grad=-0.0454), Var(v=0.1381, grad=0.0000), Var(v=0.0453, grad=0.0050)], [Var(v=-0.0501, grad=0.0000), Var(v=-0.0517, grad=0.0000), Var(v=-0.0845, grad=0.0000), Var(v=-0.1892, grad=0.0000), Var(v=0.0283, grad=0.0000), Var(v=0.0362, grad=0.0000), Var(v=-0.1722, grad=-0.0421), Var(v=-0.0866, grad=0.0000), Var(v=0.1956, grad=0.0000), Var(v=-0.1619, grad=0.0410), Var(v=0.0161, grad=-0.7966), Var(v=0.2138, grad=0.8667), Var(v=0.0892, grad=-0.5370), Var(v=-0.0325, grad=0.0000), Var(v=-0.1752, grad=0.0000), Var(v=0.1434, grad=0.0000), Var(v=-0.0489, grad=0.0000), Var(v=0.1466, grad=-0.2877), Var(v=0.0422, grad=0.0000), Var(v=-0.0583, grad=0.0000), Var(v=0.0670, grad=0.8020), Var(v=-0.0076, grad=0.0000), Var(v=-0.0157, grad=0.0000), Var(v=-0.0460, grad=0.0000), Var(v=0.0244, grad=0.0187), Var(v=-0.0835, grad=0.0000), Var(v=0.0896, grad=0.0000), Var(v=-0.0720, grad=0.0000), Var(v=-0.0444, grad=0.0000), Var(v=-0.1004, grad=0.0000), Var(v=-0.1043, grad=0.0000), Var(v=-0.0043, grad=0.0000), Var(v=-0.0914, grad=0.0000), Var(v=-0.0127, grad=0.0000), Var(v=0.1803, grad=0.7720), Var(v=-0.0840, grad=-0.4142), Var(v=0.0191, grad=0.0000), Var(v=-0.0066, grad=0.0000), Var(v=-0.0984, grad=1.1971), Var(v=-0.0728, grad=0.0000), Var(v=-0.0553, grad=-0.1676), Var(v=-0.1196, grad=0.7465), Var(v=0.0041, grad=-0.4073), Var(v=0.0913, grad=0.0000), Var(v=0.1045, grad=0.0000), Var(v=0.1625, grad=0.0484), Var(v=0.1663, grad=0.0000), Var(v=-0.1141, grad=-0.3425), Var(v=-0.1327, grad=0.0000), Var(v=-0.0815, grad=0.0376)], [Var(v=-0.0192, grad=0.0000), Var(v=0.0671, grad=0.0000), Var(v=-0.0960, grad=0.0000), Var(v=0.0661, grad=0.0000), Var(v=-0.1121, grad=0.0000), Var(v=-0.1520, grad=0.0000), Var(v=-0.1535, grad=-0.0476), Var(v=-0.0310, grad=0.0000), Var(v=-0.0026, grad=0.0000), Var(v=0.0441, grad=0.0464), Var(v=0.1032, grad=-0.9017), Var(v=0.1132, grad=0.9811), Var(v=0.0200, grad=-0.6079), Var(v=-0.1712, grad=0.0000), Var(v=-0.0471, grad=0.0000), Var(v=0.0661, grad=0.0000), Var(v=0.0993, grad=0.0000), Var(v=-0.0293, grad=-0.3256), Var(v=-0.0037, grad=0.0000), Var(v=-0.2109, grad=0.0000), Var(v=0.0886, grad=0.9078), Var(v=-0.0030, grad=0.0000), Var(v=0.0609, grad=0.0000), Var(v=0.1057, grad=0.0000), Var(v=-0.0706, grad=0.0211), Var(v=-0.0714, grad=0.0000), Var(v=-0.0970, grad=0.0000), Var(v=0.0145, grad=0.0000), Var(v=0.0389, grad=0.0000), Var(v=0.0250, grad=0.0000), Var(v=-0.0936, grad=0.0000), Var(v=0.0687, grad=0.0000), Var(v=0.0094, grad=0.0000), Var(v=-0.1399, grad=0.0000), Var(v=-0.1379, grad=0.8738), Var(v=0.0282, grad=-0.4689), Var(v=0.0928, grad=0.0000), Var(v=0.0097, grad=0.0000), Var(v=-0.0203, grad=1.3550), Var(v=0.1427, grad=0.0000), Var(v=-0.1380, grad=-0.1897), Var(v=-0.0310, grad=0.8450), Var(v=0.0464, grad=-0.4610), Var(v=0.0267, grad=0.0000), Var(v=-0.2185, grad=0.0000), Var(v=0.0181, grad=0.0547), Var(v=-0.1543, grad=0.0000), Var(v=0.0853, grad=-0.3877), Var(v=0.0450, grad=0.0000), Var(v=-0.1166, grad=0.0426)], [Var(v=-0.0885, grad=0.0000), Var(v=-0.0712, grad=0.0000), Var(v=0.1390, grad=0.0000), Var(v=0.1223, grad=0.0000), Var(v=0.0098, grad=0.0000), Var(v=0.1950, grad=0.0000), Var(v=0.0490, grad=-0.0212), Var(v=-0.2020, grad=0.0000), Var(v=-0.0471, grad=0.0000), Var(v=-0.0312, grad=0.0206), Var(v=0.0777, grad=-0.4011), Var(v=-0.2579, grad=0.4365), Var(v=0.0311, grad=-0.2704), Var(v=-0.0981, grad=0.0000), Var(v=0.1326, grad=0.0000), Var(v=0.2177, grad=0.0000), Var(v=0.0428, grad=0.0000), Var(v=0.0713, grad=-0.1449), Var(v=0.0135, grad=0.0000), Var(v=-0.0614, grad=0.0000), Var(v=0.0528, grad=0.4039), Var(v=0.0025, grad=0.0000), Var(v=0.0863, grad=0.0000), Var(v=0.0622, grad=0.0000), Var(v=-0.0971, grad=0.0094), Var(v=0.1125, grad=0.0000), Var(v=-0.0016, grad=0.0000), Var(v=-0.2204, grad=0.0000), Var(v=0.0358, grad=0.0000), Var(v=-0.0382, grad=0.0000), Var(v=-0.0937, grad=0.0000), Var(v=0.0860, grad=0.0000), Var(v=-0.0016, grad=0.0000), Var(v=0.1387, grad=0.0000), Var(v=0.0643, grad=0.3887), Var(v=-0.0517, grad=-0.2086), Var(v=0.0608, grad=0.0000), Var(v=0.0289, grad=0.0000), Var(v=-0.1581, grad=0.6028), Var(v=-0.0266, grad=0.0000), Var(v=0.0306, grad=-0.0844), Var(v=-0.0068, grad=0.3759), Var(v=-0.1114, grad=-0.2051), Var(v=-0.1140, grad=0.0000), Var(v=-0.0820, grad=0.0000), Var(v=-0.0425, grad=0.0244), Var(v=0.0267, grad=0.0000), Var(v=0.2941, grad=-0.1725), Var(v=0.2140, grad=0.0000), Var(v=0.1453, grad=0.0189)], [Var(v=0.1023, grad=0.0000), Var(v=0.0064, grad=0.0000), Var(v=0.0672, grad=0.0000), Var(v=0.1295, grad=0.0000), Var(v=0.1737, grad=0.0000), Var(v=0.1078, grad=0.0000), Var(v=-0.0286, grad=-0.0255), Var(v=-0.0321, grad=0.0000), Var(v=0.1186, grad=0.0000), Var(v=-0.0125, grad=0.0248), Var(v=0.0230, grad=-0.4821), Var(v=-0.1516, grad=0.5245), Var(v=0.0299, grad=-0.3250), Var(v=-0.0535, grad=0.0000), Var(v=-0.0540, grad=0.0000), Var(v=-0.0078, grad=0.0000), Var(v=0.0883, grad=0.0000), Var(v=0.0025, grad=-0.1741), Var(v=-0.0455, grad=0.0000), Var(v=-0.0688, grad=0.0000), Var(v=-0.1299, grad=0.4854), Var(v=0.0536, grad=0.0000), Var(v=0.0530, grad=0.0000), Var(v=0.0305, grad=0.0000), Var(v=0.0980, grad=0.0113), Var(v=0.0536, grad=0.0000), Var(v=0.1621, grad=0.0000), Var(v=0.0047, grad=0.0000), Var(v=-0.0824, grad=0.0000), Var(v=0.1030, grad=0.0000), Var(v=-0.1221, grad=0.0000), Var(v=-0.1196, grad=0.0000), Var(v=-0.0832, grad=0.0000), Var(v=-0.0153, grad=0.0000), Var(v=0.1865, grad=0.4672), Var(v=0.0498, grad=-0.2507), Var(v=-0.0679, grad=0.0000), Var(v=-0.0294, grad=0.0000), Var(v=0.0751, grad=0.7244), Var(v=-0.1420, grad=0.0000), Var(v=0.0119, grad=-0.1014), Var(v=0.1265, grad=0.4518), Var(v=-0.0496, grad=-0.2465), Var(v=0.0063, grad=0.0000), Var(v=-0.0299, grad=0.0000), Var(v=0.2047, grad=0.0293), Var(v=0.0093, grad=0.0000), Var(v=-0.0317, grad=-0.2073), Var(v=0.0274, grad=0.0000), Var(v=-0.2204, grad=0.0228)]] Biases: [Var(v=0.0000, grad=0.0000), Var(v=0.0000, grad=0.0000), Var(v=0.0000, grad=0.0000), Var(v=0.0000, grad=0.0000), Var(v=0.0000, grad=0.0000), Var(v=0.0000, grad=0.0000), Var(v=0.0000, grad=0.0000), Var(v=0.0000, grad=0.0000), Var(v=0.0000, grad=0.0000), Var(v=0.0000, grad=0.0000), Var(v=0.0000, grad=0.0000), Var(v=0.0000, grad=0.0000), Var(v=0.0000, grad=0.0000), Var(v=0.0000, grad=0.0000), Var(v=0.0000, grad=0.0000), Var(v=0.0000, grad=0.0000), Var(v=0.0000, grad=0.0000), Var(v=0.0000, grad=0.0000), Var(v=0.0000, grad=0.0000), Var(v=0.0000, grad=0.0000), Var(v=0.0000, grad=0.0000), Var(v=0.0000, grad=0.0000), Var(v=0.0000, grad=0.0000), Var(v=0.0000, grad=0.0000), Var(v=0.0000, grad=0.0000), Var(v=0.0000, grad=0.0000), Var(v=0.0000, grad=0.0000), Var(v=0.0000, grad=0.0000), Var(v=0.0000, grad=0.0000), Var(v=0.0000, grad=0.0000), Var(v=0.0000, grad=0.0000), Var(v=0.0000, grad=0.0000), Var(v=0.0000, grad=0.0000), Var(v=0.0000, grad=0.0000), Var(v=0.0000, grad=0.0000), Var(v=0.0000, grad=0.0000), Var(v=0.0000, grad=0.0000), Var(v=0.0000, grad=0.0000), Var(v=0.0000, grad=0.0000), Var(v=0.0000, grad=0.0000), Var(v=0.0000, grad=0.0000), Var(v=0.0000, grad=0.0000), Var(v=0.0000, grad=0.0000), Var(v=0.0000, grad=0.0000), Var(v=0.0000, grad=0.0000), Var(v=0.0000, grad=0.0000), Var(v=0.0000, grad=0.0000), Var(v=0.0000, grad=0.0000), Var(v=0.0000, grad=0.0000), Var(v=0.0000, grad=0.0000)]\n",
      "Layer 2 \n",
      " Weights: [[Var(v=-0.0337, grad=-3.6690)], [Var(v=-0.1695, grad=0.0000)], [Var(v=0.1806, grad=-0.9770)], [Var(v=0.0149, grad=0.0000)], [Var(v=-0.1623, grad=-4.0038)], [Var(v=0.0760, grad=0.0000)], [Var(v=-0.0070, grad=0.2107)], [Var(v=0.0038, grad=-1.6121)], [Var(v=-0.0977, grad=0.0000)], [Var(v=0.0069, grad=-8.5452)], [Var(v=-0.1334, grad=4.5513)], [Var(v=0.1451, grad=1.4485)], [Var(v=-0.0899, grad=-1.1100)], [Var(v=0.1021, grad=0.0000)], [Var(v=0.0565, grad=0.0000)], [Var(v=0.0073, grad=-4.5581)], [Var(v=-0.0875, grad=0.0000)], [Var(v=-0.0482, grad=-1.3452)], [Var(v=-0.0201, grad=-3.9663)], [Var(v=-0.0437, grad=-1.6674)], [Var(v=0.1343, grad=-0.8565)], [Var(v=-0.0637, grad=0.0000)], [Var(v=-0.0723, grad=-2.0715)], [Var(v=0.1170, grad=0.0000)], [Var(v=0.0031, grad=-5.9418)], [Var(v=0.0278, grad=-6.9672)], [Var(v=0.0716, grad=0.0000)], [Var(v=0.1084, grad=-2.1394)], [Var(v=-0.1045, grad=0.0000)], [Var(v=-0.0960, grad=0.0000)], [Var(v=0.0215, grad=-2.3200)], [Var(v=-0.0861, grad=-5.0400)], [Var(v=0.0497, grad=-2.8493)], [Var(v=-0.1834, grad=-0.1022)], [Var(v=0.1292, grad=0.2983)], [Var(v=-0.0693, grad=-5.2256)], [Var(v=-0.0324, grad=0.0000)], [Var(v=0.0991, grad=0.0000)], [Var(v=0.2004, grad=1.0690)], [Var(v=0.1055, grad=0.0000)], [Var(v=-0.0281, grad=0.4706)], [Var(v=0.1250, grad=4.9194)], [Var(v=-0.0682, grad=0.3715)], [Var(v=0.2839, grad=0.0000)], [Var(v=-0.1055, grad=0.0000)], [Var(v=0.0081, grad=-0.2722)], [Var(v=-0.0277, grad=-6.9030)], [Var(v=-0.0574, grad=-1.1402)], [Var(v=-0.0026, grad=0.0000)], [Var(v=0.0063, grad=2.6099)]] Biases: [Var(v=0.0000, grad=0.0000)]\n",
      "\n",
      "Network after update:\n",
      "Layer 0 \n",
      " Weights: [[Var(v=-0.0023, grad=-0.4308), Var(v=0.1448, grad=-0.5024), Var(v=-0.0846, grad=-3.2787), Var(v=-0.1161, grad=-1.0189), Var(v=0.0054, grad=-0.2627), Var(v=0.0289, grad=1.6935), Var(v=0.0897, grad=-1.8240), Var(v=-0.1125, grad=-0.5346), Var(v=0.2050, grad=4.2811), Var(v=0.2200, grad=1.5812), Var(v=-0.0155, grad=0.7336), Var(v=-0.0368, grad=-2.5118), Var(v=-0.0867, grad=1.6557), Var(v=-0.1064, grad=7.5221), Var(v=-0.0261, grad=-1.1329)]] Biases: [Var(v=0.0000, grad=0.0000), Var(v=0.0000, grad=0.0000), Var(v=0.0000, grad=0.0000), Var(v=0.0000, grad=0.0000), Var(v=0.0000, grad=0.0000), Var(v=0.0000, grad=0.0000), Var(v=0.0000, grad=0.0000), Var(v=0.0000, grad=0.0000), Var(v=0.0000, grad=0.0000), Var(v=0.0000, grad=0.0000), Var(v=0.0000, grad=0.0000), Var(v=0.0000, grad=0.0000), Var(v=0.0000, grad=0.0000), Var(v=0.0000, grad=0.0000), Var(v=0.0000, grad=0.0000)]\n",
      "Layer 1 \n",
      " Weights: [[Var(v=-0.1101, grad=0.0000), Var(v=0.0682, grad=0.0000), Var(v=0.0770, grad=0.0000), Var(v=-0.0665, grad=0.0000), Var(v=0.0782, grad=0.0000), Var(v=-0.0944, grad=0.0000), Var(v=0.1843, grad=-0.0045), Var(v=0.0736, grad=0.0000), Var(v=-0.0716, grad=0.0000), Var(v=-0.0695, grad=0.0043), Var(v=-0.0382, grad=-0.0844), Var(v=-0.1749, grad=0.0919), Var(v=0.0152, grad=-0.0569), Var(v=-0.1500, grad=0.0000), Var(v=-0.1063, grad=0.0000), Var(v=-0.0539, grad=0.0000), Var(v=-0.0543, grad=0.0000), Var(v=-0.1497, grad=-0.0305), Var(v=-0.0446, grad=0.0000), Var(v=-0.0026, grad=0.0000), Var(v=-0.0083, grad=0.0850), Var(v=0.0258, grad=0.0000), Var(v=-0.0228, grad=0.0000), Var(v=-0.1064, grad=0.0000), Var(v=0.0928, grad=0.0020), Var(v=0.0049, grad=0.0000), Var(v=0.2603, grad=0.0000), Var(v=0.0844, grad=0.0000), Var(v=-0.1810, grad=0.0000), Var(v=0.0616, grad=0.0000), Var(v=0.0517, grad=0.0000), Var(v=0.1243, grad=0.0000), Var(v=0.1188, grad=0.0000), Var(v=-0.0144, grad=0.0000), Var(v=-0.0138, grad=0.0818), Var(v=-0.0908, grad=-0.0439), Var(v=-0.0878, grad=0.0000), Var(v=0.0822, grad=0.0000), Var(v=0.1733, grad=0.1269), Var(v=0.1165, grad=0.0000), Var(v=0.0471, grad=-0.0178), Var(v=-0.0990, grad=0.0791), Var(v=0.0695, grad=-0.0432), Var(v=0.0501, grad=0.0000), Var(v=0.0012, grad=0.0000), Var(v=-0.2255, grad=0.0051), Var(v=-0.0862, grad=0.0000), Var(v=-0.0403, grad=-0.0363), Var(v=-0.0156, grad=0.0000), Var(v=-0.1215, grad=0.0040)], [Var(v=0.1452, grad=0.4855), Var(v=-0.0866, grad=0.0000), Var(v=0.1029, grad=-2.6002), Var(v=-0.1682, grad=0.0000), Var(v=0.0119, grad=2.3364), Var(v=-0.0177, grad=0.0000), Var(v=-0.0248, grad=0.0000), Var(v=0.2114, grad=-0.0550), Var(v=0.0445, grad=0.0000), Var(v=-0.0101, grad=-0.0987), Var(v=-0.0591, grad=0.0000), Var(v=0.0524, grad=0.0000), Var(v=0.0286, grad=1.2945), Var(v=-0.1679, grad=0.0000), Var(v=-0.1056, grad=0.0000), Var(v=0.0603, grad=-0.1056), Var(v=-0.0727, grad=0.0000), Var(v=-0.1064, grad=0.6935), Var(v=-0.1196, grad=0.2891), Var(v=0.2155, grad=0.6286), Var(v=0.1129, grad=-1.9333), Var(v=-0.1599, grad=0.0000), Var(v=-0.1445, grad=1.0404), Var(v=-0.1760, grad=0.0000), Var(v=-0.0600, grad=-0.0450), Var(v=0.0895, grad=-0.4009), Var(v=-0.0098, grad=0.0000), Var(v=0.0448, grad=-1.5612), Var(v=-0.2240, grad=0.0000), Var(v=0.0259, grad=0.0000), Var(v=0.1666, grad=-0.3099), Var(v=0.0889, grad=1.2393), Var(v=0.0705, grad=-0.7158), Var(v=0.0386, grad=2.6405), Var(v=-0.0491, grad=-1.8608), Var(v=-0.0727, grad=0.9985), Var(v=-0.0750, grad=0.0000), Var(v=-0.0624, grad=0.0000), Var(v=0.0322, grad=0.0000), Var(v=-0.0999, grad=0.0000), Var(v=-0.0737, grad=0.4040), Var(v=-0.0551, grad=-1.7995), Var(v=-0.0858, grad=0.0000), Var(v=-0.1246, grad=0.0000), Var(v=-0.1896, grad=0.0000), Var(v=0.1824, grad=-0.1166), Var(v=0.1421, grad=0.3984), Var(v=-0.1376, grad=0.8257), Var(v=-0.1359, grad=0.0000), Var(v=-0.0423, grad=0.0000)], [Var(v=-0.0890, grad=0.0000), Var(v=-0.0178, grad=0.0000), Var(v=0.1890, grad=0.0000), Var(v=-0.1122, grad=0.0000), Var(v=-0.0461, grad=0.0000), Var(v=-0.0231, grad=0.0000), Var(v=0.0524, grad=-0.0798), Var(v=-0.1211, grad=0.0000), Var(v=-0.1587, grad=0.0000), Var(v=0.1240, grad=0.0777), Var(v=0.2157, grad=-1.5099), Var(v=0.0203, grad=1.6429), Var(v=-0.0354, grad=-1.0180), Var(v=-0.1245, grad=0.0000), Var(v=-0.0546, grad=0.0000), Var(v=0.0277, grad=0.0000), Var(v=-0.1115, grad=0.0000), Var(v=-0.0438, grad=-0.5453), Var(v=-0.0494, grad=0.0000), Var(v=-0.0243, grad=0.0000), Var(v=0.0214, grad=1.5203), Var(v=-0.0163, grad=0.0000), Var(v=-0.1270, grad=0.0000), Var(v=-0.1590, grad=0.0000), Var(v=0.0379, grad=0.0354), Var(v=0.0157, grad=0.0000), Var(v=0.0160, grad=0.0000), Var(v=0.0864, grad=0.0000), Var(v=-0.1591, grad=0.0000), Var(v=-0.1828, grad=0.0000), Var(v=-0.0698, grad=0.0000), Var(v=0.0296, grad=0.0000), Var(v=0.0396, grad=0.0000), Var(v=-0.0012, grad=0.0000), Var(v=-0.0602, grad=1.4633), Var(v=0.0613, grad=-0.7852), Var(v=0.1358, grad=0.0000), Var(v=0.0211, grad=0.0000), Var(v=0.1276, grad=2.2691), Var(v=-0.0205, grad=0.0000), Var(v=0.1305, grad=-0.3177), Var(v=0.2241, grad=1.4150), Var(v=0.0054, grad=-0.7720), Var(v=0.0389, grad=0.0000), Var(v=0.1235, grad=0.0000), Var(v=0.0684, grad=0.0917), Var(v=-0.2416, grad=0.0000), Var(v=0.0830, grad=-0.6493), Var(v=-0.1369, grad=0.0000), Var(v=0.0538, grad=0.0713)], [Var(v=-0.0090, grad=0.0000), Var(v=0.0188, grad=0.0000), Var(v=0.0123, grad=0.0000), Var(v=0.1267, grad=0.0000), Var(v=-0.1032, grad=0.0000), Var(v=-0.0374, grad=0.0000), Var(v=0.1124, grad=-0.0858), Var(v=-0.0526, grad=0.0000), Var(v=0.0420, grad=0.0000), Var(v=0.0189, grad=0.0836), Var(v=-0.0170, grad=-1.6248), Var(v=-0.0080, grad=1.7679), Var(v=0.1040, grad=-1.0954), Var(v=0.0276, grad=0.0000), Var(v=0.1453, grad=0.0000), Var(v=-0.1689, grad=0.0000), Var(v=0.0815, grad=0.0000), Var(v=-0.0350, grad=-0.5868), Var(v=-0.0488, grad=0.0000), Var(v=-0.1344, grad=0.0000), Var(v=0.0648, grad=1.6360), Var(v=-0.0464, grad=0.0000), Var(v=0.0851, grad=0.0000), Var(v=-0.1434, grad=0.0000), Var(v=0.0880, grad=0.0381), Var(v=-0.0704, grad=0.0000), Var(v=-0.0814, grad=0.0000), Var(v=0.0686, grad=0.0000), Var(v=0.1206, grad=0.0000), Var(v=-0.0566, grad=0.0000), Var(v=-0.0049, grad=0.0000), Var(v=0.0453, grad=0.0000), Var(v=-0.0310, grad=0.0000), Var(v=-0.0994, grad=0.0000), Var(v=-0.0864, grad=1.5746), Var(v=0.0871, grad=-0.8449), Var(v=-0.2179, grad=0.0000), Var(v=-0.1878, grad=0.0000), Var(v=-0.0072, grad=2.4418), Var(v=0.0340, grad=0.0000), Var(v=0.1101, grad=-0.3418), Var(v=0.1531, grad=1.5227), Var(v=0.0940, grad=-0.8307), Var(v=-0.0369, grad=0.0000), Var(v=-0.0390, grad=0.0000), Var(v=0.0487, grad=0.0986), Var(v=-0.0630, grad=0.0000), Var(v=0.0350, grad=-0.6987), Var(v=-0.0461, grad=0.0000), Var(v=0.1135, grad=0.0767)], [Var(v=0.0438, grad=0.0095), Var(v=0.0441, grad=0.0000), Var(v=0.0091, grad=-0.0510), Var(v=0.1530, grad=0.0000), Var(v=-0.0677, grad=0.0458), Var(v=-0.0461, grad=0.0000), Var(v=-0.0221, grad=0.0000), Var(v=0.1184, grad=-0.0011), Var(v=-0.1363, grad=0.0000), Var(v=0.1986, grad=-0.0019), Var(v=0.0976, grad=0.0000), Var(v=-0.0098, grad=0.0000), Var(v=0.0284, grad=0.0254), Var(v=0.1112, grad=0.0000), Var(v=-0.0108, grad=0.0000), Var(v=-0.0641, grad=-0.0021), Var(v=-0.0019, grad=0.0000), Var(v=-0.0119, grad=0.0136), Var(v=0.2053, grad=0.0057), Var(v=-0.0016, grad=0.0123), Var(v=0.1611, grad=-0.0379), Var(v=-0.2251, grad=0.0000), Var(v=0.1300, grad=0.0204), Var(v=0.1525, grad=0.0000), Var(v=-0.0399, grad=-0.0009), Var(v=0.1866, grad=-0.0079), Var(v=-0.0972, grad=0.0000), Var(v=-0.1410, grad=-0.0306), Var(v=0.1252, grad=0.0000), Var(v=0.0504, grad=0.0000), Var(v=0.0073, grad=-0.0061), Var(v=0.0065, grad=0.0243), Var(v=0.3088, grad=-0.0140), Var(v=0.0283, grad=0.0518), Var(v=-0.0606, grad=-0.0365), Var(v=0.0790, grad=0.0196), Var(v=0.0134, grad=0.0000), Var(v=0.0999, grad=0.0000), Var(v=0.0087, grad=0.0000), Var(v=-0.0104, grad=0.0000), Var(v=-0.1187, grad=0.0079), Var(v=-0.0419, grad=-0.0353), Var(v=-0.0761, grad=0.0000), Var(v=-0.1894, grad=0.0000), Var(v=0.0107, grad=0.0000), Var(v=0.0585, grad=-0.0023), Var(v=0.0646, grad=0.0078), Var(v=-0.0240, grad=0.0162), Var(v=0.1681, grad=0.0000), Var(v=0.0461, grad=0.0000)], [Var(v=-0.0092, grad=0.1593), Var(v=-0.0677, grad=0.0000), Var(v=0.0589, grad=-0.8531), Var(v=-0.1466, grad=0.0000), Var(v=-0.0430, grad=0.7665), Var(v=0.1056, grad=0.0000), Var(v=0.0352, grad=0.0000), Var(v=0.0696, grad=-0.0181), Var(v=0.1317, grad=0.0000), Var(v=0.2617, grad=-0.0324), Var(v=0.0946, grad=0.0000), Var(v=-0.0512, grad=0.0000), Var(v=-0.0513, grad=0.4247), Var(v=-0.0783, grad=0.0000), Var(v=-0.0210, grad=0.0000), Var(v=0.0791, grad=-0.0346), Var(v=-0.0190, grad=0.0000), Var(v=-0.1485, grad=0.2275), Var(v=-0.0262, grad=0.0948), Var(v=0.0024, grad=0.2062), Var(v=-0.1477, grad=-0.6343), Var(v=-0.1409, grad=0.0000), Var(v=-0.0174, grad=0.3413), Var(v=0.0508, grad=0.0000), Var(v=-0.0166, grad=-0.0148), Var(v=0.0916, grad=-0.1315), Var(v=-0.1653, grad=0.0000), Var(v=-0.1020, grad=-0.5122), Var(v=0.0979, grad=0.0000), Var(v=-0.0323, grad=0.0000), Var(v=0.1121, grad=-0.1017), Var(v=0.0341, grad=0.4066), Var(v=-0.1939, grad=-0.2348), Var(v=0.1038, grad=0.8663), Var(v=0.2194, grad=-0.6105), Var(v=0.0244, grad=0.3276), Var(v=0.0538, grad=0.0000), Var(v=0.0894, grad=0.0000), Var(v=0.0565, grad=0.0000), Var(v=0.1996, grad=0.0000), Var(v=-0.0407, grad=0.1325), Var(v=-0.0803, grad=-0.5904), Var(v=0.0477, grad=0.0000), Var(v=-0.0550, grad=0.0000), Var(v=0.0664, grad=0.0000), Var(v=-0.3442, grad=-0.0382), Var(v=0.0677, grad=0.1307), Var(v=-0.0562, grad=0.2709), Var(v=0.1675, grad=0.0000), Var(v=0.0293, grad=0.0000)], [Var(v=0.1713, grad=0.2483), Var(v=-0.1264, grad=0.0000), Var(v=0.0869, grad=-1.3298), Var(v=0.0291, grad=0.0000), Var(v=0.0282, grad=1.1949), Var(v=-0.0329, grad=0.0000), Var(v=0.0474, grad=0.0000), Var(v=-0.0449, grad=-0.0281), Var(v=0.1922, grad=0.0000), Var(v=0.1105, grad=-0.0505), Var(v=-0.1146, grad=0.0000), Var(v=-0.0291, grad=0.0000), Var(v=0.0012, grad=0.6621), Var(v=-0.0911, grad=0.0000), Var(v=0.0413, grad=0.0000), Var(v=0.0101, grad=-0.0540), Var(v=0.2681, grad=0.0000), Var(v=-0.1236, grad=0.3547), Var(v=0.0222, grad=0.1479), Var(v=-0.1847, grad=0.3215), Var(v=0.0088, grad=-0.9887), Var(v=-0.0189, grad=0.0000), Var(v=0.1508, grad=0.5321), Var(v=-0.1089, grad=0.0000), Var(v=0.2463, grad=-0.0230), Var(v=-0.0113, grad=-0.2050), Var(v=-0.0484, grad=0.0000), Var(v=-0.1107, grad=-0.7984), Var(v=0.1512, grad=0.0000), Var(v=0.0661, grad=0.0000), Var(v=0.0687, grad=-0.1585), Var(v=0.0289, grad=0.6338), Var(v=0.0454, grad=-0.3661), Var(v=-0.0563, grad=1.3504), Var(v=0.0632, grad=-0.9517), Var(v=0.1193, grad=0.5106), Var(v=-0.0735, grad=0.0000), Var(v=-0.0494, grad=0.0000), Var(v=0.1408, grad=0.0000), Var(v=-0.0974, grad=0.0000), Var(v=-0.0370, grad=0.2066), Var(v=0.1703, grad=-0.9203), Var(v=0.1328, grad=0.0000), Var(v=-0.1872, grad=0.0000), Var(v=-0.0149, grad=0.0000), Var(v=-0.0668, grad=-0.0596), Var(v=-0.0632, grad=0.2038), Var(v=0.0204, grad=0.4223), Var(v=0.0585, grad=0.0000), Var(v=-0.1142, grad=0.0000)], [Var(v=0.0742, grad=0.0000), Var(v=-0.0501, grad=0.0000), Var(v=-0.2022, grad=0.0000), Var(v=-0.1219, grad=0.0000), Var(v=0.1072, grad=0.0000), Var(v=-0.0715, grad=0.0000), Var(v=0.0204, grad=-0.0801), Var(v=-0.1901, grad=0.0000), Var(v=-0.1435, grad=0.0000), Var(v=0.0091, grad=0.0780), Var(v=0.1596, grad=-1.5162), Var(v=0.0002, grad=1.6497), Var(v=-0.0768, grad=-1.0222), Var(v=-0.2568, grad=0.0000), Var(v=-0.0196, grad=0.0000), Var(v=-0.0065, grad=0.0000), Var(v=-0.0850, grad=0.0000), Var(v=0.0604, grad=-0.5476), Var(v=0.0894, grad=0.0000), Var(v=0.0083, grad=0.0000), Var(v=-0.1339, grad=1.5266), Var(v=-0.0356, grad=0.0000), Var(v=-0.0764, grad=0.0000), Var(v=-0.0657, grad=0.0000), Var(v=-0.0353, grad=0.0355), Var(v=0.0828, grad=0.0000), Var(v=-0.0020, grad=0.0000), Var(v=-0.1307, grad=0.0000), Var(v=-0.0237, grad=0.0000), Var(v=0.1105, grad=0.0000), Var(v=0.0996, grad=0.0000), Var(v=-0.1699, grad=0.0000), Var(v=-0.0370, grad=0.0000), Var(v=-0.0546, grad=0.0000), Var(v=0.1562, grad=1.4693), Var(v=0.0316, grad=-0.7884), Var(v=-0.0559, grad=0.0000), Var(v=0.0096, grad=0.0000), Var(v=-0.0279, grad=2.2785), Var(v=-0.0434, grad=0.0000), Var(v=0.0461, grad=-0.3190), Var(v=0.0970, grad=1.4209), Var(v=-0.0314, grad=-0.7752), Var(v=-0.0539, grad=0.0000), Var(v=-0.1264, grad=0.0000), Var(v=0.0301, grad=0.0920), Var(v=0.0122, grad=0.0000), Var(v=0.0589, grad=-0.6520), Var(v=-0.1354, grad=0.0000), Var(v=0.1995, grad=0.0716)], [Var(v=-0.0049, grad=0.8606), Var(v=0.0721, grad=0.0000), Var(v=-0.1433, grad=-4.6095), Var(v=-0.0067, grad=0.0000), Var(v=0.0120, grad=4.1417), Var(v=0.1688, grad=0.0000), Var(v=-0.0353, grad=0.0000), Var(v=-0.0773, grad=-0.0976), Var(v=-0.0812, grad=0.0000), Var(v=0.2145, grad=-0.1751), Var(v=0.0112, grad=0.0000), Var(v=0.0443, grad=0.0000), Var(v=0.0315, grad=2.2949), Var(v=-0.0302, grad=0.0000), Var(v=-0.0287, grad=0.0000), Var(v=0.0770, grad=-0.1872), Var(v=-0.0711, grad=0.0000), Var(v=0.0560, grad=1.2293), Var(v=0.0282, grad=0.5125), Var(v=-0.0173, grad=1.1142), Var(v=0.0661, grad=-3.4272), Var(v=-0.0855, grad=0.0000), Var(v=0.0210, grad=1.8443), Var(v=0.0194, grad=0.0000), Var(v=0.2877, grad=-0.0797), Var(v=0.2331, grad=-0.7106), Var(v=-0.0648, grad=0.0000), Var(v=0.1390, grad=-2.7675), Var(v=0.1481, grad=0.0000), Var(v=-0.0434, grad=0.0000), Var(v=-0.0132, grad=-0.5493), Var(v=0.0088, grad=2.1969), Var(v=0.0874, grad=-1.2689), Var(v=-0.1003, grad=4.6809), Var(v=0.0677, grad=-3.2987), Var(v=0.0719, grad=1.7700), Var(v=-0.0066, grad=0.0000), Var(v=-0.0260, grad=0.0000), Var(v=-0.1318, grad=0.0000), Var(v=-0.0562, grad=0.0000), Var(v=0.1939, grad=0.7161), Var(v=-0.0569, grad=-3.1900), Var(v=-0.0523, grad=0.0000), Var(v=0.1241, grad=0.0000), Var(v=0.1225, grad=0.0000), Var(v=-0.0799, grad=-0.2066), Var(v=0.0708, grad=0.7063), Var(v=0.0129, grad=1.4638), Var(v=-0.0771, grad=0.0000), Var(v=-0.0009, grad=0.0000)], [Var(v=-0.0016, grad=0.8188), Var(v=-0.0784, grad=0.0000), Var(v=0.2053, grad=-4.3853), Var(v=-0.1699, grad=0.0000), Var(v=0.0439, grad=3.9403), Var(v=-0.1807, grad=0.0000), Var(v=0.0221, grad=0.0000), Var(v=0.0234, grad=-0.0928), Var(v=-0.0866, grad=0.0000), Var(v=0.0905, grad=-0.1665), Var(v=-0.2696, grad=0.0000), Var(v=-0.0866, grad=0.0000), Var(v=-0.0308, grad=2.1833), Var(v=-0.0442, grad=0.0000), Var(v=-0.1293, grad=0.0000), Var(v=0.0580, grad=-0.1781), Var(v=0.0280, grad=0.0000), Var(v=0.1110, grad=1.1695), Var(v=0.1880, grad=0.4876), Var(v=-0.0128, grad=1.0601), Var(v=0.0302, grad=-3.2606), Var(v=-0.0087, grad=0.0000), Var(v=0.0596, grad=1.7546), Var(v=0.0472, grad=0.0000), Var(v=-0.0532, grad=-0.0759), Var(v=-0.0102, grad=-0.6761), Var(v=-0.1058, grad=0.0000), Var(v=0.0386, grad=-2.6329), Var(v=-0.1146, grad=0.0000), Var(v=-0.0167, grad=0.0000), Var(v=-0.0185, grad=-0.5226), Var(v=0.0760, grad=2.0901), Var(v=0.0353, grad=-1.2072), Var(v=-0.0319, grad=4.4533), Var(v=0.0236, grad=-3.1383), Var(v=0.1567, grad=1.6839), Var(v=-0.0015, grad=0.0000), Var(v=-0.1003, grad=0.0000), Var(v=0.0642, grad=0.0000), Var(v=0.0838, grad=0.0000), Var(v=-0.0885, grad=0.6813), Var(v=0.1595, grad=-3.0349), Var(v=-0.1680, grad=0.0000), Var(v=-0.0806, grad=0.0000), Var(v=-0.0702, grad=0.0000), Var(v=0.2126, grad=-0.1966), Var(v=0.1135, grad=0.6720), Var(v=0.1872, grad=1.3926), Var(v=-0.0460, grad=0.0000), Var(v=-0.1083, grad=0.0000)], [Var(v=-0.2400, grad=0.0000), Var(v=0.1885, grad=0.0000), Var(v=0.1523, grad=0.0000), Var(v=0.0577, grad=0.0000), Var(v=0.0514, grad=0.0000), Var(v=-0.0833, grad=0.0000), Var(v=-0.0642, grad=-0.0056), Var(v=0.0071, grad=0.0000), Var(v=0.0514, grad=0.0000), Var(v=0.0875, grad=0.0054), Var(v=-0.0518, grad=-0.1055), Var(v=0.1469, grad=0.1148), Var(v=-0.0060, grad=-0.0711), Var(v=-0.0912, grad=0.0000), Var(v=-0.1347, grad=0.0000), Var(v=-0.2544, grad=0.0000), Var(v=0.0908, grad=0.0000), Var(v=-0.0110, grad=-0.0381), Var(v=-0.1813, grad=0.0000), Var(v=0.0666, grad=0.0000), Var(v=-0.2332, grad=0.1063), Var(v=-0.0179, grad=0.0000), Var(v=-0.0152, grad=0.0000), Var(v=0.0078, grad=0.0000), Var(v=0.0260, grad=0.0025), Var(v=-0.0660, grad=0.0000), Var(v=0.1277, grad=0.0000), Var(v=-0.0482, grad=0.0000), Var(v=-0.0030, grad=0.0000), Var(v=-0.1738, grad=0.0000), Var(v=-0.0793, grad=0.0000), Var(v=0.1604, grad=0.0000), Var(v=-0.2648, grad=0.0000), Var(v=-0.0311, grad=0.0000), Var(v=-0.2072, grad=0.1023), Var(v=-0.0557, grad=-0.0549), Var(v=-0.0332, grad=0.0000), Var(v=0.0123, grad=0.0000), Var(v=0.0404, grad=0.1586), Var(v=-0.1116, grad=0.0000), Var(v=0.0119, grad=-0.0222), Var(v=0.0502, grad=0.0989), Var(v=-0.0848, grad=-0.0540), Var(v=0.0444, grad=0.0000), Var(v=0.1061, grad=0.0000), Var(v=-0.0656, grad=0.0064), Var(v=-0.0050, grad=0.0000), Var(v=0.0800, grad=-0.0454), Var(v=0.1381, grad=0.0000), Var(v=0.0453, grad=0.0050)], [Var(v=-0.0501, grad=0.0000), Var(v=-0.0517, grad=0.0000), Var(v=-0.0845, grad=0.0000), Var(v=-0.1892, grad=0.0000), Var(v=0.0283, grad=0.0000), Var(v=0.0362, grad=0.0000), Var(v=-0.1718, grad=-0.0421), Var(v=-0.0866, grad=0.0000), Var(v=0.1956, grad=0.0000), Var(v=-0.1623, grad=0.0410), Var(v=0.0241, grad=-0.7966), Var(v=0.2052, grad=0.8667), Var(v=0.0946, grad=-0.5370), Var(v=-0.0325, grad=0.0000), Var(v=-0.1752, grad=0.0000), Var(v=0.1434, grad=0.0000), Var(v=-0.0489, grad=0.0000), Var(v=0.1495, grad=-0.2877), Var(v=0.0422, grad=0.0000), Var(v=-0.0583, grad=0.0000), Var(v=0.0590, grad=0.8020), Var(v=-0.0076, grad=0.0000), Var(v=-0.0157, grad=0.0000), Var(v=-0.0460, grad=0.0000), Var(v=0.0242, grad=0.0187), Var(v=-0.0835, grad=0.0000), Var(v=0.0896, grad=0.0000), Var(v=-0.0720, grad=0.0000), Var(v=-0.0444, grad=0.0000), Var(v=-0.1004, grad=0.0000), Var(v=-0.1043, grad=0.0000), Var(v=-0.0043, grad=0.0000), Var(v=-0.0914, grad=0.0000), Var(v=-0.0127, grad=0.0000), Var(v=0.1726, grad=0.7720), Var(v=-0.0798, grad=-0.4142), Var(v=0.0191, grad=0.0000), Var(v=-0.0066, grad=0.0000), Var(v=-0.1104, grad=1.1971), Var(v=-0.0728, grad=0.0000), Var(v=-0.0536, grad=-0.1676), Var(v=-0.1271, grad=0.7465), Var(v=0.0082, grad=-0.4073), Var(v=0.0913, grad=0.0000), Var(v=0.1045, grad=0.0000), Var(v=0.1621, grad=0.0484), Var(v=0.1663, grad=0.0000), Var(v=-0.1107, grad=-0.3425), Var(v=-0.1327, grad=0.0000), Var(v=-0.0819, grad=0.0376)], [Var(v=-0.0192, grad=0.0000), Var(v=0.0671, grad=0.0000), Var(v=-0.0960, grad=0.0000), Var(v=0.0661, grad=0.0000), Var(v=-0.1121, grad=0.0000), Var(v=-0.1520, grad=0.0000), Var(v=-0.1530, grad=-0.0476), Var(v=-0.0310, grad=0.0000), Var(v=-0.0026, grad=0.0000), Var(v=0.0436, grad=0.0464), Var(v=0.1123, grad=-0.9017), Var(v=0.1033, grad=0.9811), Var(v=0.0261, grad=-0.6079), Var(v=-0.1712, grad=0.0000), Var(v=-0.0471, grad=0.0000), Var(v=0.0661, grad=0.0000), Var(v=0.0993, grad=0.0000), Var(v=-0.0260, grad=-0.3256), Var(v=-0.0037, grad=0.0000), Var(v=-0.2109, grad=0.0000), Var(v=0.0795, grad=0.9078), Var(v=-0.0030, grad=0.0000), Var(v=0.0609, grad=0.0000), Var(v=0.1057, grad=0.0000), Var(v=-0.0709, grad=0.0211), Var(v=-0.0714, grad=0.0000), Var(v=-0.0970, grad=0.0000), Var(v=0.0145, grad=0.0000), Var(v=0.0389, grad=0.0000), Var(v=0.0250, grad=0.0000), Var(v=-0.0936, grad=0.0000), Var(v=0.0687, grad=0.0000), Var(v=0.0094, grad=0.0000), Var(v=-0.1399, grad=0.0000), Var(v=-0.1466, grad=0.8738), Var(v=0.0328, grad=-0.4689), Var(v=0.0928, grad=0.0000), Var(v=0.0097, grad=0.0000), Var(v=-0.0338, grad=1.3550), Var(v=0.1427, grad=0.0000), Var(v=-0.1361, grad=-0.1897), Var(v=-0.0395, grad=0.8450), Var(v=0.0510, grad=-0.4610), Var(v=0.0267, grad=0.0000), Var(v=-0.2185, grad=0.0000), Var(v=0.0175, grad=0.0547), Var(v=-0.1543, grad=0.0000), Var(v=0.0892, grad=-0.3877), Var(v=0.0450, grad=0.0000), Var(v=-0.1170, grad=0.0426)], [Var(v=-0.0885, grad=0.0000), Var(v=-0.0712, grad=0.0000), Var(v=0.1390, grad=0.0000), Var(v=0.1223, grad=0.0000), Var(v=0.0098, grad=0.0000), Var(v=0.1950, grad=0.0000), Var(v=0.0492, grad=-0.0212), Var(v=-0.2020, grad=0.0000), Var(v=-0.0471, grad=0.0000), Var(v=-0.0314, grad=0.0206), Var(v=0.0817, grad=-0.4011), Var(v=-0.2622, grad=0.4365), Var(v=0.0338, grad=-0.2704), Var(v=-0.0981, grad=0.0000), Var(v=0.1326, grad=0.0000), Var(v=0.2177, grad=0.0000), Var(v=0.0428, grad=0.0000), Var(v=0.0728, grad=-0.1449), Var(v=0.0135, grad=0.0000), Var(v=-0.0614, grad=0.0000), Var(v=0.0488, grad=0.4039), Var(v=0.0025, grad=0.0000), Var(v=0.0863, grad=0.0000), Var(v=0.0622, grad=0.0000), Var(v=-0.0972, grad=0.0094), Var(v=0.1125, grad=0.0000), Var(v=-0.0016, grad=0.0000), Var(v=-0.2204, grad=0.0000), Var(v=0.0358, grad=0.0000), Var(v=-0.0382, grad=0.0000), Var(v=-0.0937, grad=0.0000), Var(v=0.0860, grad=0.0000), Var(v=-0.0016, grad=0.0000), Var(v=0.1387, grad=0.0000), Var(v=0.0604, grad=0.3887), Var(v=-0.0497, grad=-0.2086), Var(v=0.0608, grad=0.0000), Var(v=0.0289, grad=0.0000), Var(v=-0.1641, grad=0.6028), Var(v=-0.0266, grad=0.0000), Var(v=0.0314, grad=-0.0844), Var(v=-0.0106, grad=0.3759), Var(v=-0.1093, grad=-0.2051), Var(v=-0.1140, grad=0.0000), Var(v=-0.0820, grad=0.0000), Var(v=-0.0427, grad=0.0244), Var(v=0.0267, grad=0.0000), Var(v=0.2958, grad=-0.1725), Var(v=0.2140, grad=0.0000), Var(v=0.1451, grad=0.0189)], [Var(v=0.1023, grad=0.0000), Var(v=0.0064, grad=0.0000), Var(v=0.0672, grad=0.0000), Var(v=0.1295, grad=0.0000), Var(v=0.1737, grad=0.0000), Var(v=0.1078, grad=0.0000), Var(v=-0.0283, grad=-0.0255), Var(v=-0.0321, grad=0.0000), Var(v=0.1186, grad=0.0000), Var(v=-0.0128, grad=0.0248), Var(v=0.0278, grad=-0.4821), Var(v=-0.1568, grad=0.5245), Var(v=0.0331, grad=-0.3250), Var(v=-0.0535, grad=0.0000), Var(v=-0.0540, grad=0.0000), Var(v=-0.0078, grad=0.0000), Var(v=0.0883, grad=0.0000), Var(v=0.0042, grad=-0.1741), Var(v=-0.0455, grad=0.0000), Var(v=-0.0688, grad=0.0000), Var(v=-0.1348, grad=0.4854), Var(v=0.0536, grad=0.0000), Var(v=0.0530, grad=0.0000), Var(v=0.0305, grad=0.0000), Var(v=0.0979, grad=0.0113), Var(v=0.0536, grad=0.0000), Var(v=0.1621, grad=0.0000), Var(v=0.0047, grad=0.0000), Var(v=-0.0824, grad=0.0000), Var(v=0.1030, grad=0.0000), Var(v=-0.1221, grad=0.0000), Var(v=-0.1196, grad=0.0000), Var(v=-0.0832, grad=0.0000), Var(v=-0.0153, grad=0.0000), Var(v=0.1818, grad=0.4672), Var(v=0.0523, grad=-0.2507), Var(v=-0.0679, grad=0.0000), Var(v=-0.0294, grad=0.0000), Var(v=0.0678, grad=0.7244), Var(v=-0.1420, grad=0.0000), Var(v=0.0129, grad=-0.1014), Var(v=0.1220, grad=0.4518), Var(v=-0.0471, grad=-0.2465), Var(v=0.0063, grad=0.0000), Var(v=-0.0299, grad=0.0000), Var(v=0.2044, grad=0.0293), Var(v=0.0093, grad=0.0000), Var(v=-0.0296, grad=-0.2073), Var(v=0.0274, grad=0.0000), Var(v=-0.2206, grad=0.0228)]] Biases: [Var(v=0.0000, grad=0.0000), Var(v=0.0000, grad=0.0000), Var(v=0.0000, grad=0.0000), Var(v=0.0000, grad=0.0000), Var(v=0.0000, grad=0.0000), Var(v=0.0000, grad=0.0000), Var(v=0.0000, grad=0.0000), Var(v=0.0000, grad=0.0000), Var(v=0.0000, grad=0.0000), Var(v=0.0000, grad=0.0000), Var(v=0.0000, grad=0.0000), Var(v=0.0000, grad=0.0000), Var(v=0.0000, grad=0.0000), Var(v=0.0000, grad=0.0000), Var(v=0.0000, grad=0.0000), Var(v=0.0000, grad=0.0000), Var(v=0.0000, grad=0.0000), Var(v=0.0000, grad=0.0000), Var(v=0.0000, grad=0.0000), Var(v=0.0000, grad=0.0000), Var(v=0.0000, grad=0.0000), Var(v=0.0000, grad=0.0000), Var(v=0.0000, grad=0.0000), Var(v=0.0000, grad=0.0000), Var(v=0.0000, grad=0.0000), Var(v=0.0000, grad=0.0000), Var(v=0.0000, grad=0.0000), Var(v=0.0000, grad=0.0000), Var(v=0.0000, grad=0.0000), Var(v=0.0000, grad=0.0000), Var(v=0.0000, grad=0.0000), Var(v=0.0000, grad=0.0000), Var(v=0.0000, grad=0.0000), Var(v=0.0000, grad=0.0000), Var(v=0.0000, grad=0.0000), Var(v=0.0000, grad=0.0000), Var(v=0.0000, grad=0.0000), Var(v=0.0000, grad=0.0000), Var(v=0.0000, grad=0.0000), Var(v=0.0000, grad=0.0000), Var(v=0.0000, grad=0.0000), Var(v=0.0000, grad=0.0000), Var(v=0.0000, grad=0.0000), Var(v=0.0000, grad=0.0000), Var(v=0.0000, grad=0.0000), Var(v=0.0000, grad=0.0000), Var(v=0.0000, grad=0.0000), Var(v=0.0000, grad=0.0000), Var(v=0.0000, grad=0.0000), Var(v=0.0000, grad=0.0000)]\n",
      "Layer 2 \n",
      " Weights: [[Var(v=0.0030, grad=-3.6690)], [Var(v=-0.1695, grad=0.0000)], [Var(v=0.1904, grad=-0.9770)], [Var(v=0.0149, grad=0.0000)], [Var(v=-0.1222, grad=-4.0038)], [Var(v=0.0760, grad=0.0000)], [Var(v=-0.0092, grad=0.2107)], [Var(v=0.0199, grad=-1.6121)], [Var(v=-0.0977, grad=0.0000)], [Var(v=0.0923, grad=-8.5452)], [Var(v=-0.1789, grad=4.5513)], [Var(v=0.1306, grad=1.4485)], [Var(v=-0.0788, grad=-1.1100)], [Var(v=0.1021, grad=0.0000)], [Var(v=0.0565, grad=0.0000)], [Var(v=0.0529, grad=-4.5581)], [Var(v=-0.0875, grad=0.0000)], [Var(v=-0.0347, grad=-1.3452)], [Var(v=0.0196, grad=-3.9663)], [Var(v=-0.0270, grad=-1.6674)], [Var(v=0.1428, grad=-0.8565)], [Var(v=-0.0637, grad=0.0000)], [Var(v=-0.0515, grad=-2.0715)], [Var(v=0.1170, grad=0.0000)], [Var(v=0.0625, grad=-5.9418)], [Var(v=0.0975, grad=-6.9672)], [Var(v=0.0716, grad=0.0000)], [Var(v=0.1298, grad=-2.1394)], [Var(v=-0.1045, grad=0.0000)], [Var(v=-0.0960, grad=0.0000)], [Var(v=0.0447, grad=-2.3200)], [Var(v=-0.0357, grad=-5.0400)], [Var(v=0.0782, grad=-2.8493)], [Var(v=-0.1824, grad=-0.1022)], [Var(v=0.1263, grad=0.2983)], [Var(v=-0.0171, grad=-5.2256)], [Var(v=-0.0324, grad=0.0000)], [Var(v=0.0991, grad=0.0000)], [Var(v=0.1897, grad=1.0690)], [Var(v=0.1055, grad=0.0000)], [Var(v=-0.0328, grad=0.4706)], [Var(v=0.0758, grad=4.9194)], [Var(v=-0.0719, grad=0.3715)], [Var(v=0.2839, grad=0.0000)], [Var(v=-0.1055, grad=0.0000)], [Var(v=0.0108, grad=-0.2722)], [Var(v=0.0414, grad=-6.9030)], [Var(v=-0.0459, grad=-1.1402)], [Var(v=-0.0026, grad=0.0000)], [Var(v=-0.0198, grad=2.6099)]] Biases: [Var(v=0.0000, grad=0.0000)]\n",
      "\n",
      "Network after zeroing gradients:\n",
      "Layer 0 \n",
      " Weights: [[Var(v=-0.0023, grad=0.0000), Var(v=0.1448, grad=0.0000), Var(v=-0.0846, grad=0.0000), Var(v=-0.1161, grad=0.0000), Var(v=0.0054, grad=0.0000), Var(v=0.0289, grad=0.0000), Var(v=0.0897, grad=0.0000), Var(v=-0.1125, grad=0.0000), Var(v=0.2050, grad=0.0000), Var(v=0.2200, grad=0.0000), Var(v=-0.0155, grad=0.0000), Var(v=-0.0368, grad=0.0000), Var(v=-0.0867, grad=0.0000), Var(v=-0.1064, grad=0.0000), Var(v=-0.0261, grad=0.0000)]] Biases: [Var(v=0.0000, grad=0.0000), Var(v=0.0000, grad=0.0000), Var(v=0.0000, grad=0.0000), Var(v=0.0000, grad=0.0000), Var(v=0.0000, grad=0.0000), Var(v=0.0000, grad=0.0000), Var(v=0.0000, grad=0.0000), Var(v=0.0000, grad=0.0000), Var(v=0.0000, grad=0.0000), Var(v=0.0000, grad=0.0000), Var(v=0.0000, grad=0.0000), Var(v=0.0000, grad=0.0000), Var(v=0.0000, grad=0.0000), Var(v=0.0000, grad=0.0000), Var(v=0.0000, grad=0.0000)]\n",
      "Layer 1 \n",
      " Weights: [[Var(v=-0.1101, grad=0.0000), Var(v=0.0682, grad=0.0000), Var(v=0.0770, grad=0.0000), Var(v=-0.0665, grad=0.0000), Var(v=0.0782, grad=0.0000), Var(v=-0.0944, grad=0.0000), Var(v=0.1843, grad=0.0000), Var(v=0.0736, grad=0.0000), Var(v=-0.0716, grad=0.0000), Var(v=-0.0695, grad=0.0000), Var(v=-0.0382, grad=0.0000), Var(v=-0.1749, grad=0.0000), Var(v=0.0152, grad=0.0000), Var(v=-0.1500, grad=0.0000), Var(v=-0.1063, grad=0.0000), Var(v=-0.0539, grad=0.0000), Var(v=-0.0543, grad=0.0000), Var(v=-0.1497, grad=0.0000), Var(v=-0.0446, grad=0.0000), Var(v=-0.0026, grad=0.0000), Var(v=-0.0083, grad=0.0000), Var(v=0.0258, grad=0.0000), Var(v=-0.0228, grad=0.0000), Var(v=-0.1064, grad=0.0000), Var(v=0.0928, grad=0.0000), Var(v=0.0049, grad=0.0000), Var(v=0.2603, grad=0.0000), Var(v=0.0844, grad=0.0000), Var(v=-0.1810, grad=0.0000), Var(v=0.0616, grad=0.0000), Var(v=0.0517, grad=0.0000), Var(v=0.1243, grad=0.0000), Var(v=0.1188, grad=0.0000), Var(v=-0.0144, grad=0.0000), Var(v=-0.0138, grad=0.0000), Var(v=-0.0908, grad=0.0000), Var(v=-0.0878, grad=0.0000), Var(v=0.0822, grad=0.0000), Var(v=0.1733, grad=0.0000), Var(v=0.1165, grad=0.0000), Var(v=0.0471, grad=0.0000), Var(v=-0.0990, grad=0.0000), Var(v=0.0695, grad=0.0000), Var(v=0.0501, grad=0.0000), Var(v=0.0012, grad=0.0000), Var(v=-0.2255, grad=0.0000), Var(v=-0.0862, grad=0.0000), Var(v=-0.0403, grad=0.0000), Var(v=-0.0156, grad=0.0000), Var(v=-0.1215, grad=0.0000)], [Var(v=0.1452, grad=0.0000), Var(v=-0.0866, grad=0.0000), Var(v=0.1029, grad=0.0000), Var(v=-0.1682, grad=0.0000), Var(v=0.0119, grad=0.0000), Var(v=-0.0177, grad=0.0000), Var(v=-0.0248, grad=0.0000), Var(v=0.2114, grad=0.0000), Var(v=0.0445, grad=0.0000), Var(v=-0.0101, grad=0.0000), Var(v=-0.0591, grad=0.0000), Var(v=0.0524, grad=0.0000), Var(v=0.0286, grad=0.0000), Var(v=-0.1679, grad=0.0000), Var(v=-0.1056, grad=0.0000), Var(v=0.0603, grad=0.0000), Var(v=-0.0727, grad=0.0000), Var(v=-0.1064, grad=0.0000), Var(v=-0.1196, grad=0.0000), Var(v=0.2155, grad=0.0000), Var(v=0.1129, grad=0.0000), Var(v=-0.1599, grad=0.0000), Var(v=-0.1445, grad=0.0000), Var(v=-0.1760, grad=0.0000), Var(v=-0.0600, grad=0.0000), Var(v=0.0895, grad=0.0000), Var(v=-0.0098, grad=0.0000), Var(v=0.0448, grad=0.0000), Var(v=-0.2240, grad=0.0000), Var(v=0.0259, grad=0.0000), Var(v=0.1666, grad=0.0000), Var(v=0.0889, grad=0.0000), Var(v=0.0705, grad=0.0000), Var(v=0.0386, grad=0.0000), Var(v=-0.0491, grad=0.0000), Var(v=-0.0727, grad=0.0000), Var(v=-0.0750, grad=0.0000), Var(v=-0.0624, grad=0.0000), Var(v=0.0322, grad=0.0000), Var(v=-0.0999, grad=0.0000), Var(v=-0.0737, grad=0.0000), Var(v=-0.0551, grad=0.0000), Var(v=-0.0858, grad=0.0000), Var(v=-0.1246, grad=0.0000), Var(v=-0.1896, grad=0.0000), Var(v=0.1824, grad=0.0000), Var(v=0.1421, grad=0.0000), Var(v=-0.1376, grad=0.0000), Var(v=-0.1359, grad=0.0000), Var(v=-0.0423, grad=0.0000)], [Var(v=-0.0890, grad=0.0000), Var(v=-0.0178, grad=0.0000), Var(v=0.1890, grad=0.0000), Var(v=-0.1122, grad=0.0000), Var(v=-0.0461, grad=0.0000), Var(v=-0.0231, grad=0.0000), Var(v=0.0524, grad=0.0000), Var(v=-0.1211, grad=0.0000), Var(v=-0.1587, grad=0.0000), Var(v=0.1240, grad=0.0000), Var(v=0.2157, grad=0.0000), Var(v=0.0203, grad=0.0000), Var(v=-0.0354, grad=0.0000), Var(v=-0.1245, grad=0.0000), Var(v=-0.0546, grad=0.0000), Var(v=0.0277, grad=0.0000), Var(v=-0.1115, grad=0.0000), Var(v=-0.0438, grad=0.0000), Var(v=-0.0494, grad=0.0000), Var(v=-0.0243, grad=0.0000), Var(v=0.0214, grad=0.0000), Var(v=-0.0163, grad=0.0000), Var(v=-0.1270, grad=0.0000), Var(v=-0.1590, grad=0.0000), Var(v=0.0379, grad=0.0000), Var(v=0.0157, grad=0.0000), Var(v=0.0160, grad=0.0000), Var(v=0.0864, grad=0.0000), Var(v=-0.1591, grad=0.0000), Var(v=-0.1828, grad=0.0000), Var(v=-0.0698, grad=0.0000), Var(v=0.0296, grad=0.0000), Var(v=0.0396, grad=0.0000), Var(v=-0.0012, grad=0.0000), Var(v=-0.0602, grad=0.0000), Var(v=0.0613, grad=0.0000), Var(v=0.1358, grad=0.0000), Var(v=0.0211, grad=0.0000), Var(v=0.1276, grad=0.0000), Var(v=-0.0205, grad=0.0000), Var(v=0.1305, grad=0.0000), Var(v=0.2241, grad=0.0000), Var(v=0.0054, grad=0.0000), Var(v=0.0389, grad=0.0000), Var(v=0.1235, grad=0.0000), Var(v=0.0684, grad=0.0000), Var(v=-0.2416, grad=0.0000), Var(v=0.0830, grad=0.0000), Var(v=-0.1369, grad=0.0000), Var(v=0.0538, grad=0.0000)], [Var(v=-0.0090, grad=0.0000), Var(v=0.0188, grad=0.0000), Var(v=0.0123, grad=0.0000), Var(v=0.1267, grad=0.0000), Var(v=-0.1032, grad=0.0000), Var(v=-0.0374, grad=0.0000), Var(v=0.1124, grad=0.0000), Var(v=-0.0526, grad=0.0000), Var(v=0.0420, grad=0.0000), Var(v=0.0189, grad=0.0000), Var(v=-0.0170, grad=0.0000), Var(v=-0.0080, grad=0.0000), Var(v=0.1040, grad=0.0000), Var(v=0.0276, grad=0.0000), Var(v=0.1453, grad=0.0000), Var(v=-0.1689, grad=0.0000), Var(v=0.0815, grad=0.0000), Var(v=-0.0350, grad=0.0000), Var(v=-0.0488, grad=0.0000), Var(v=-0.1344, grad=0.0000), Var(v=0.0648, grad=0.0000), Var(v=-0.0464, grad=0.0000), Var(v=0.0851, grad=0.0000), Var(v=-0.1434, grad=0.0000), Var(v=0.0880, grad=0.0000), Var(v=-0.0704, grad=0.0000), Var(v=-0.0814, grad=0.0000), Var(v=0.0686, grad=0.0000), Var(v=0.1206, grad=0.0000), Var(v=-0.0566, grad=0.0000), Var(v=-0.0049, grad=0.0000), Var(v=0.0453, grad=0.0000), Var(v=-0.0310, grad=0.0000), Var(v=-0.0994, grad=0.0000), Var(v=-0.0864, grad=0.0000), Var(v=0.0871, grad=0.0000), Var(v=-0.2179, grad=0.0000), Var(v=-0.1878, grad=0.0000), Var(v=-0.0072, grad=0.0000), Var(v=0.0340, grad=0.0000), Var(v=0.1101, grad=0.0000), Var(v=0.1531, grad=0.0000), Var(v=0.0940, grad=0.0000), Var(v=-0.0369, grad=0.0000), Var(v=-0.0390, grad=0.0000), Var(v=0.0487, grad=0.0000), Var(v=-0.0630, grad=0.0000), Var(v=0.0350, grad=0.0000), Var(v=-0.0461, grad=0.0000), Var(v=0.1135, grad=0.0000)], [Var(v=0.0438, grad=0.0000), Var(v=0.0441, grad=0.0000), Var(v=0.0091, grad=0.0000), Var(v=0.1530, grad=0.0000), Var(v=-0.0677, grad=0.0000), Var(v=-0.0461, grad=0.0000), Var(v=-0.0221, grad=0.0000), Var(v=0.1184, grad=0.0000), Var(v=-0.1363, grad=0.0000), Var(v=0.1986, grad=0.0000), Var(v=0.0976, grad=0.0000), Var(v=-0.0098, grad=0.0000), Var(v=0.0284, grad=0.0000), Var(v=0.1112, grad=0.0000), Var(v=-0.0108, grad=0.0000), Var(v=-0.0641, grad=0.0000), Var(v=-0.0019, grad=0.0000), Var(v=-0.0119, grad=0.0000), Var(v=0.2053, grad=0.0000), Var(v=-0.0016, grad=0.0000), Var(v=0.1611, grad=0.0000), Var(v=-0.2251, grad=0.0000), Var(v=0.1300, grad=0.0000), Var(v=0.1525, grad=0.0000), Var(v=-0.0399, grad=0.0000), Var(v=0.1866, grad=0.0000), Var(v=-0.0972, grad=0.0000), Var(v=-0.1410, grad=0.0000), Var(v=0.1252, grad=0.0000), Var(v=0.0504, grad=0.0000), Var(v=0.0073, grad=0.0000), Var(v=0.0065, grad=0.0000), Var(v=0.3088, grad=0.0000), Var(v=0.0283, grad=0.0000), Var(v=-0.0606, grad=0.0000), Var(v=0.0790, grad=0.0000), Var(v=0.0134, grad=0.0000), Var(v=0.0999, grad=0.0000), Var(v=0.0087, grad=0.0000), Var(v=-0.0104, grad=0.0000), Var(v=-0.1187, grad=0.0000), Var(v=-0.0419, grad=0.0000), Var(v=-0.0761, grad=0.0000), Var(v=-0.1894, grad=0.0000), Var(v=0.0107, grad=0.0000), Var(v=0.0585, grad=0.0000), Var(v=0.0646, grad=0.0000), Var(v=-0.0240, grad=0.0000), Var(v=0.1681, grad=0.0000), Var(v=0.0461, grad=0.0000)], [Var(v=-0.0092, grad=0.0000), Var(v=-0.0677, grad=0.0000), Var(v=0.0589, grad=0.0000), Var(v=-0.1466, grad=0.0000), Var(v=-0.0430, grad=0.0000), Var(v=0.1056, grad=0.0000), Var(v=0.0352, grad=0.0000), Var(v=0.0696, grad=0.0000), Var(v=0.1317, grad=0.0000), Var(v=0.2617, grad=0.0000), Var(v=0.0946, grad=0.0000), Var(v=-0.0512, grad=0.0000), Var(v=-0.0513, grad=0.0000), Var(v=-0.0783, grad=0.0000), Var(v=-0.0210, grad=0.0000), Var(v=0.0791, grad=0.0000), Var(v=-0.0190, grad=0.0000), Var(v=-0.1485, grad=0.0000), Var(v=-0.0262, grad=0.0000), Var(v=0.0024, grad=0.0000), Var(v=-0.1477, grad=0.0000), Var(v=-0.1409, grad=0.0000), Var(v=-0.0174, grad=0.0000), Var(v=0.0508, grad=0.0000), Var(v=-0.0166, grad=0.0000), Var(v=0.0916, grad=0.0000), Var(v=-0.1653, grad=0.0000), Var(v=-0.1020, grad=0.0000), Var(v=0.0979, grad=0.0000), Var(v=-0.0323, grad=0.0000), Var(v=0.1121, grad=0.0000), Var(v=0.0341, grad=0.0000), Var(v=-0.1939, grad=0.0000), Var(v=0.1038, grad=0.0000), Var(v=0.2194, grad=0.0000), Var(v=0.0244, grad=0.0000), Var(v=0.0538, grad=0.0000), Var(v=0.0894, grad=0.0000), Var(v=0.0565, grad=0.0000), Var(v=0.1996, grad=0.0000), Var(v=-0.0407, grad=0.0000), Var(v=-0.0803, grad=0.0000), Var(v=0.0477, grad=0.0000), Var(v=-0.0550, grad=0.0000), Var(v=0.0664, grad=0.0000), Var(v=-0.3442, grad=0.0000), Var(v=0.0677, grad=0.0000), Var(v=-0.0562, grad=0.0000), Var(v=0.1675, grad=0.0000), Var(v=0.0293, grad=0.0000)], [Var(v=0.1713, grad=0.0000), Var(v=-0.1264, grad=0.0000), Var(v=0.0869, grad=0.0000), Var(v=0.0291, grad=0.0000), Var(v=0.0282, grad=0.0000), Var(v=-0.0329, grad=0.0000), Var(v=0.0474, grad=0.0000), Var(v=-0.0449, grad=0.0000), Var(v=0.1922, grad=0.0000), Var(v=0.1105, grad=0.0000), Var(v=-0.1146, grad=0.0000), Var(v=-0.0291, grad=0.0000), Var(v=0.0012, grad=0.0000), Var(v=-0.0911, grad=0.0000), Var(v=0.0413, grad=0.0000), Var(v=0.0101, grad=0.0000), Var(v=0.2681, grad=0.0000), Var(v=-0.1236, grad=0.0000), Var(v=0.0222, grad=0.0000), Var(v=-0.1847, grad=0.0000), Var(v=0.0088, grad=0.0000), Var(v=-0.0189, grad=0.0000), Var(v=0.1508, grad=0.0000), Var(v=-0.1089, grad=0.0000), Var(v=0.2463, grad=0.0000), Var(v=-0.0113, grad=0.0000), Var(v=-0.0484, grad=0.0000), Var(v=-0.1107, grad=0.0000), Var(v=0.1512, grad=0.0000), Var(v=0.0661, grad=0.0000), Var(v=0.0687, grad=0.0000), Var(v=0.0289, grad=0.0000), Var(v=0.0454, grad=0.0000), Var(v=-0.0563, grad=0.0000), Var(v=0.0632, grad=0.0000), Var(v=0.1193, grad=0.0000), Var(v=-0.0735, grad=0.0000), Var(v=-0.0494, grad=0.0000), Var(v=0.1408, grad=0.0000), Var(v=-0.0974, grad=0.0000), Var(v=-0.0370, grad=0.0000), Var(v=0.1703, grad=0.0000), Var(v=0.1328, grad=0.0000), Var(v=-0.1872, grad=0.0000), Var(v=-0.0149, grad=0.0000), Var(v=-0.0668, grad=0.0000), Var(v=-0.0632, grad=0.0000), Var(v=0.0204, grad=0.0000), Var(v=0.0585, grad=0.0000), Var(v=-0.1142, grad=0.0000)], [Var(v=0.0742, grad=0.0000), Var(v=-0.0501, grad=0.0000), Var(v=-0.2022, grad=0.0000), Var(v=-0.1219, grad=0.0000), Var(v=0.1072, grad=0.0000), Var(v=-0.0715, grad=0.0000), Var(v=0.0204, grad=0.0000), Var(v=-0.1901, grad=0.0000), Var(v=-0.1435, grad=0.0000), Var(v=0.0091, grad=0.0000), Var(v=0.1596, grad=0.0000), Var(v=0.0002, grad=0.0000), Var(v=-0.0768, grad=0.0000), Var(v=-0.2568, grad=0.0000), Var(v=-0.0196, grad=0.0000), Var(v=-0.0065, grad=0.0000), Var(v=-0.0850, grad=0.0000), Var(v=0.0604, grad=0.0000), Var(v=0.0894, grad=0.0000), Var(v=0.0083, grad=0.0000), Var(v=-0.1339, grad=0.0000), Var(v=-0.0356, grad=0.0000), Var(v=-0.0764, grad=0.0000), Var(v=-0.0657, grad=0.0000), Var(v=-0.0353, grad=0.0000), Var(v=0.0828, grad=0.0000), Var(v=-0.0020, grad=0.0000), Var(v=-0.1307, grad=0.0000), Var(v=-0.0237, grad=0.0000), Var(v=0.1105, grad=0.0000), Var(v=0.0996, grad=0.0000), Var(v=-0.1699, grad=0.0000), Var(v=-0.0370, grad=0.0000), Var(v=-0.0546, grad=0.0000), Var(v=0.1562, grad=0.0000), Var(v=0.0316, grad=0.0000), Var(v=-0.0559, grad=0.0000), Var(v=0.0096, grad=0.0000), Var(v=-0.0279, grad=0.0000), Var(v=-0.0434, grad=0.0000), Var(v=0.0461, grad=0.0000), Var(v=0.0970, grad=0.0000), Var(v=-0.0314, grad=0.0000), Var(v=-0.0539, grad=0.0000), Var(v=-0.1264, grad=0.0000), Var(v=0.0301, grad=0.0000), Var(v=0.0122, grad=0.0000), Var(v=0.0589, grad=0.0000), Var(v=-0.1354, grad=0.0000), Var(v=0.1995, grad=0.0000)], [Var(v=-0.0049, grad=0.0000), Var(v=0.0721, grad=0.0000), Var(v=-0.1433, grad=0.0000), Var(v=-0.0067, grad=0.0000), Var(v=0.0120, grad=0.0000), Var(v=0.1688, grad=0.0000), Var(v=-0.0353, grad=0.0000), Var(v=-0.0773, grad=0.0000), Var(v=-0.0812, grad=0.0000), Var(v=0.2145, grad=0.0000), Var(v=0.0112, grad=0.0000), Var(v=0.0443, grad=0.0000), Var(v=0.0315, grad=0.0000), Var(v=-0.0302, grad=0.0000), Var(v=-0.0287, grad=0.0000), Var(v=0.0770, grad=0.0000), Var(v=-0.0711, grad=0.0000), Var(v=0.0560, grad=0.0000), Var(v=0.0282, grad=0.0000), Var(v=-0.0173, grad=0.0000), Var(v=0.0661, grad=0.0000), Var(v=-0.0855, grad=0.0000), Var(v=0.0210, grad=0.0000), Var(v=0.0194, grad=0.0000), Var(v=0.2877, grad=0.0000), Var(v=0.2331, grad=0.0000), Var(v=-0.0648, grad=0.0000), Var(v=0.1390, grad=0.0000), Var(v=0.1481, grad=0.0000), Var(v=-0.0434, grad=0.0000), Var(v=-0.0132, grad=0.0000), Var(v=0.0088, grad=0.0000), Var(v=0.0874, grad=0.0000), Var(v=-0.1003, grad=0.0000), Var(v=0.0677, grad=0.0000), Var(v=0.0719, grad=0.0000), Var(v=-0.0066, grad=0.0000), Var(v=-0.0260, grad=0.0000), Var(v=-0.1318, grad=0.0000), Var(v=-0.0562, grad=0.0000), Var(v=0.1939, grad=0.0000), Var(v=-0.0569, grad=0.0000), Var(v=-0.0523, grad=0.0000), Var(v=0.1241, grad=0.0000), Var(v=0.1225, grad=0.0000), Var(v=-0.0799, grad=0.0000), Var(v=0.0708, grad=0.0000), Var(v=0.0129, grad=0.0000), Var(v=-0.0771, grad=0.0000), Var(v=-0.0009, grad=0.0000)], [Var(v=-0.0016, grad=0.0000), Var(v=-0.0784, grad=0.0000), Var(v=0.2053, grad=0.0000), Var(v=-0.1699, grad=0.0000), Var(v=0.0439, grad=0.0000), Var(v=-0.1807, grad=0.0000), Var(v=0.0221, grad=0.0000), Var(v=0.0234, grad=0.0000), Var(v=-0.0866, grad=0.0000), Var(v=0.0905, grad=0.0000), Var(v=-0.2696, grad=0.0000), Var(v=-0.0866, grad=0.0000), Var(v=-0.0308, grad=0.0000), Var(v=-0.0442, grad=0.0000), Var(v=-0.1293, grad=0.0000), Var(v=0.0580, grad=0.0000), Var(v=0.0280, grad=0.0000), Var(v=0.1110, grad=0.0000), Var(v=0.1880, grad=0.0000), Var(v=-0.0128, grad=0.0000), Var(v=0.0302, grad=0.0000), Var(v=-0.0087, grad=0.0000), Var(v=0.0596, grad=0.0000), Var(v=0.0472, grad=0.0000), Var(v=-0.0532, grad=0.0000), Var(v=-0.0102, grad=0.0000), Var(v=-0.1058, grad=0.0000), Var(v=0.0386, grad=0.0000), Var(v=-0.1146, grad=0.0000), Var(v=-0.0167, grad=0.0000), Var(v=-0.0185, grad=0.0000), Var(v=0.0760, grad=0.0000), Var(v=0.0353, grad=0.0000), Var(v=-0.0319, grad=0.0000), Var(v=0.0236, grad=0.0000), Var(v=0.1567, grad=0.0000), Var(v=-0.0015, grad=0.0000), Var(v=-0.1003, grad=0.0000), Var(v=0.0642, grad=0.0000), Var(v=0.0838, grad=0.0000), Var(v=-0.0885, grad=0.0000), Var(v=0.1595, grad=0.0000), Var(v=-0.1680, grad=0.0000), Var(v=-0.0806, grad=0.0000), Var(v=-0.0702, grad=0.0000), Var(v=0.2126, grad=0.0000), Var(v=0.1135, grad=0.0000), Var(v=0.1872, grad=0.0000), Var(v=-0.0460, grad=0.0000), Var(v=-0.1083, grad=0.0000)], [Var(v=-0.2400, grad=0.0000), Var(v=0.1885, grad=0.0000), Var(v=0.1523, grad=0.0000), Var(v=0.0577, grad=0.0000), Var(v=0.0514, grad=0.0000), Var(v=-0.0833, grad=0.0000), Var(v=-0.0642, grad=0.0000), Var(v=0.0071, grad=0.0000), Var(v=0.0514, grad=0.0000), Var(v=0.0875, grad=0.0000), Var(v=-0.0518, grad=0.0000), Var(v=0.1469, grad=0.0000), Var(v=-0.0060, grad=0.0000), Var(v=-0.0912, grad=0.0000), Var(v=-0.1347, grad=0.0000), Var(v=-0.2544, grad=0.0000), Var(v=0.0908, grad=0.0000), Var(v=-0.0110, grad=0.0000), Var(v=-0.1813, grad=0.0000), Var(v=0.0666, grad=0.0000), Var(v=-0.2332, grad=0.0000), Var(v=-0.0179, grad=0.0000), Var(v=-0.0152, grad=0.0000), Var(v=0.0078, grad=0.0000), Var(v=0.0260, grad=0.0000), Var(v=-0.0660, grad=0.0000), Var(v=0.1277, grad=0.0000), Var(v=-0.0482, grad=0.0000), Var(v=-0.0030, grad=0.0000), Var(v=-0.1738, grad=0.0000), Var(v=-0.0793, grad=0.0000), Var(v=0.1604, grad=0.0000), Var(v=-0.2648, grad=0.0000), Var(v=-0.0311, grad=0.0000), Var(v=-0.2072, grad=0.0000), Var(v=-0.0557, grad=0.0000), Var(v=-0.0332, grad=0.0000), Var(v=0.0123, grad=0.0000), Var(v=0.0404, grad=0.0000), Var(v=-0.1116, grad=0.0000), Var(v=0.0119, grad=0.0000), Var(v=0.0502, grad=0.0000), Var(v=-0.0848, grad=0.0000), Var(v=0.0444, grad=0.0000), Var(v=0.1061, grad=0.0000), Var(v=-0.0656, grad=0.0000), Var(v=-0.0050, grad=0.0000), Var(v=0.0800, grad=0.0000), Var(v=0.1381, grad=0.0000), Var(v=0.0453, grad=0.0000)], [Var(v=-0.0501, grad=0.0000), Var(v=-0.0517, grad=0.0000), Var(v=-0.0845, grad=0.0000), Var(v=-0.1892, grad=0.0000), Var(v=0.0283, grad=0.0000), Var(v=0.0362, grad=0.0000), Var(v=-0.1718, grad=0.0000), Var(v=-0.0866, grad=0.0000), Var(v=0.1956, grad=0.0000), Var(v=-0.1623, grad=0.0000), Var(v=0.0241, grad=0.0000), Var(v=0.2052, grad=0.0000), Var(v=0.0946, grad=0.0000), Var(v=-0.0325, grad=0.0000), Var(v=-0.1752, grad=0.0000), Var(v=0.1434, grad=0.0000), Var(v=-0.0489, grad=0.0000), Var(v=0.1495, grad=0.0000), Var(v=0.0422, grad=0.0000), Var(v=-0.0583, grad=0.0000), Var(v=0.0590, grad=0.0000), Var(v=-0.0076, grad=0.0000), Var(v=-0.0157, grad=0.0000), Var(v=-0.0460, grad=0.0000), Var(v=0.0242, grad=0.0000), Var(v=-0.0835, grad=0.0000), Var(v=0.0896, grad=0.0000), Var(v=-0.0720, grad=0.0000), Var(v=-0.0444, grad=0.0000), Var(v=-0.1004, grad=0.0000), Var(v=-0.1043, grad=0.0000), Var(v=-0.0043, grad=0.0000), Var(v=-0.0914, grad=0.0000), Var(v=-0.0127, grad=0.0000), Var(v=0.1726, grad=0.0000), Var(v=-0.0798, grad=0.0000), Var(v=0.0191, grad=0.0000), Var(v=-0.0066, grad=0.0000), Var(v=-0.1104, grad=0.0000), Var(v=-0.0728, grad=0.0000), Var(v=-0.0536, grad=0.0000), Var(v=-0.1271, grad=0.0000), Var(v=0.0082, grad=0.0000), Var(v=0.0913, grad=0.0000), Var(v=0.1045, grad=0.0000), Var(v=0.1621, grad=0.0000), Var(v=0.1663, grad=0.0000), Var(v=-0.1107, grad=0.0000), Var(v=-0.1327, grad=0.0000), Var(v=-0.0819, grad=0.0000)], [Var(v=-0.0192, grad=0.0000), Var(v=0.0671, grad=0.0000), Var(v=-0.0960, grad=0.0000), Var(v=0.0661, grad=0.0000), Var(v=-0.1121, grad=0.0000), Var(v=-0.1520, grad=0.0000), Var(v=-0.1530, grad=0.0000), Var(v=-0.0310, grad=0.0000), Var(v=-0.0026, grad=0.0000), Var(v=0.0436, grad=0.0000), Var(v=0.1123, grad=0.0000), Var(v=0.1033, grad=0.0000), Var(v=0.0261, grad=0.0000), Var(v=-0.1712, grad=0.0000), Var(v=-0.0471, grad=0.0000), Var(v=0.0661, grad=0.0000), Var(v=0.0993, grad=0.0000), Var(v=-0.0260, grad=0.0000), Var(v=-0.0037, grad=0.0000), Var(v=-0.2109, grad=0.0000), Var(v=0.0795, grad=0.0000), Var(v=-0.0030, grad=0.0000), Var(v=0.0609, grad=0.0000), Var(v=0.1057, grad=0.0000), Var(v=-0.0709, grad=0.0000), Var(v=-0.0714, grad=0.0000), Var(v=-0.0970, grad=0.0000), Var(v=0.0145, grad=0.0000), Var(v=0.0389, grad=0.0000), Var(v=0.0250, grad=0.0000), Var(v=-0.0936, grad=0.0000), Var(v=0.0687, grad=0.0000), Var(v=0.0094, grad=0.0000), Var(v=-0.1399, grad=0.0000), Var(v=-0.1466, grad=0.0000), Var(v=0.0328, grad=0.0000), Var(v=0.0928, grad=0.0000), Var(v=0.0097, grad=0.0000), Var(v=-0.0338, grad=0.0000), Var(v=0.1427, grad=0.0000), Var(v=-0.1361, grad=0.0000), Var(v=-0.0395, grad=0.0000), Var(v=0.0510, grad=0.0000), Var(v=0.0267, grad=0.0000), Var(v=-0.2185, grad=0.0000), Var(v=0.0175, grad=0.0000), Var(v=-0.1543, grad=0.0000), Var(v=0.0892, grad=0.0000), Var(v=0.0450, grad=0.0000), Var(v=-0.1170, grad=0.0000)], [Var(v=-0.0885, grad=0.0000), Var(v=-0.0712, grad=0.0000), Var(v=0.1390, grad=0.0000), Var(v=0.1223, grad=0.0000), Var(v=0.0098, grad=0.0000), Var(v=0.1950, grad=0.0000), Var(v=0.0492, grad=0.0000), Var(v=-0.2020, grad=0.0000), Var(v=-0.0471, grad=0.0000), Var(v=-0.0314, grad=0.0000), Var(v=0.0817, grad=0.0000), Var(v=-0.2622, grad=0.0000), Var(v=0.0338, grad=0.0000), Var(v=-0.0981, grad=0.0000), Var(v=0.1326, grad=0.0000), Var(v=0.2177, grad=0.0000), Var(v=0.0428, grad=0.0000), Var(v=0.0728, grad=0.0000), Var(v=0.0135, grad=0.0000), Var(v=-0.0614, grad=0.0000), Var(v=0.0488, grad=0.0000), Var(v=0.0025, grad=0.0000), Var(v=0.0863, grad=0.0000), Var(v=0.0622, grad=0.0000), Var(v=-0.0972, grad=0.0000), Var(v=0.1125, grad=0.0000), Var(v=-0.0016, grad=0.0000), Var(v=-0.2204, grad=0.0000), Var(v=0.0358, grad=0.0000), Var(v=-0.0382, grad=0.0000), Var(v=-0.0937, grad=0.0000), Var(v=0.0860, grad=0.0000), Var(v=-0.0016, grad=0.0000), Var(v=0.1387, grad=0.0000), Var(v=0.0604, grad=0.0000), Var(v=-0.0497, grad=0.0000), Var(v=0.0608, grad=0.0000), Var(v=0.0289, grad=0.0000), Var(v=-0.1641, grad=0.0000), Var(v=-0.0266, grad=0.0000), Var(v=0.0314, grad=0.0000), Var(v=-0.0106, grad=0.0000), Var(v=-0.1093, grad=0.0000), Var(v=-0.1140, grad=0.0000), Var(v=-0.0820, grad=0.0000), Var(v=-0.0427, grad=0.0000), Var(v=0.0267, grad=0.0000), Var(v=0.2958, grad=0.0000), Var(v=0.2140, grad=0.0000), Var(v=0.1451, grad=0.0000)], [Var(v=0.1023, grad=0.0000), Var(v=0.0064, grad=0.0000), Var(v=0.0672, grad=0.0000), Var(v=0.1295, grad=0.0000), Var(v=0.1737, grad=0.0000), Var(v=0.1078, grad=0.0000), Var(v=-0.0283, grad=0.0000), Var(v=-0.0321, grad=0.0000), Var(v=0.1186, grad=0.0000), Var(v=-0.0128, grad=0.0000), Var(v=0.0278, grad=0.0000), Var(v=-0.1568, grad=0.0000), Var(v=0.0331, grad=0.0000), Var(v=-0.0535, grad=0.0000), Var(v=-0.0540, grad=0.0000), Var(v=-0.0078, grad=0.0000), Var(v=0.0883, grad=0.0000), Var(v=0.0042, grad=0.0000), Var(v=-0.0455, grad=0.0000), Var(v=-0.0688, grad=0.0000), Var(v=-0.1348, grad=0.0000), Var(v=0.0536, grad=0.0000), Var(v=0.0530, grad=0.0000), Var(v=0.0305, grad=0.0000), Var(v=0.0979, grad=0.0000), Var(v=0.0536, grad=0.0000), Var(v=0.1621, grad=0.0000), Var(v=0.0047, grad=0.0000), Var(v=-0.0824, grad=0.0000), Var(v=0.1030, grad=0.0000), Var(v=-0.1221, grad=0.0000), Var(v=-0.1196, grad=0.0000), Var(v=-0.0832, grad=0.0000), Var(v=-0.0153, grad=0.0000), Var(v=0.1818, grad=0.0000), Var(v=0.0523, grad=0.0000), Var(v=-0.0679, grad=0.0000), Var(v=-0.0294, grad=0.0000), Var(v=0.0678, grad=0.0000), Var(v=-0.1420, grad=0.0000), Var(v=0.0129, grad=0.0000), Var(v=0.1220, grad=0.0000), Var(v=-0.0471, grad=0.0000), Var(v=0.0063, grad=0.0000), Var(v=-0.0299, grad=0.0000), Var(v=0.2044, grad=0.0000), Var(v=0.0093, grad=0.0000), Var(v=-0.0296, grad=0.0000), Var(v=0.0274, grad=0.0000), Var(v=-0.2206, grad=0.0000)]] Biases: [Var(v=0.0000, grad=0.0000), Var(v=0.0000, grad=0.0000), Var(v=0.0000, grad=0.0000), Var(v=0.0000, grad=0.0000), Var(v=0.0000, grad=0.0000), Var(v=0.0000, grad=0.0000), Var(v=0.0000, grad=0.0000), Var(v=0.0000, grad=0.0000), Var(v=0.0000, grad=0.0000), Var(v=0.0000, grad=0.0000), Var(v=0.0000, grad=0.0000), Var(v=0.0000, grad=0.0000), Var(v=0.0000, grad=0.0000), Var(v=0.0000, grad=0.0000), Var(v=0.0000, grad=0.0000), Var(v=0.0000, grad=0.0000), Var(v=0.0000, grad=0.0000), Var(v=0.0000, grad=0.0000), Var(v=0.0000, grad=0.0000), Var(v=0.0000, grad=0.0000), Var(v=0.0000, grad=0.0000), Var(v=0.0000, grad=0.0000), Var(v=0.0000, grad=0.0000), Var(v=0.0000, grad=0.0000), Var(v=0.0000, grad=0.0000), Var(v=0.0000, grad=0.0000), Var(v=0.0000, grad=0.0000), Var(v=0.0000, grad=0.0000), Var(v=0.0000, grad=0.0000), Var(v=0.0000, grad=0.0000), Var(v=0.0000, grad=0.0000), Var(v=0.0000, grad=0.0000), Var(v=0.0000, grad=0.0000), Var(v=0.0000, grad=0.0000), Var(v=0.0000, grad=0.0000), Var(v=0.0000, grad=0.0000), Var(v=0.0000, grad=0.0000), Var(v=0.0000, grad=0.0000), Var(v=0.0000, grad=0.0000), Var(v=0.0000, grad=0.0000), Var(v=0.0000, grad=0.0000), Var(v=0.0000, grad=0.0000), Var(v=0.0000, grad=0.0000), Var(v=0.0000, grad=0.0000), Var(v=0.0000, grad=0.0000), Var(v=0.0000, grad=0.0000), Var(v=0.0000, grad=0.0000), Var(v=0.0000, grad=0.0000), Var(v=0.0000, grad=0.0000), Var(v=0.0000, grad=0.0000)]\n",
      "Layer 2 \n",
      " Weights: [[Var(v=0.0030, grad=0.0000)], [Var(v=-0.1695, grad=0.0000)], [Var(v=0.1904, grad=0.0000)], [Var(v=0.0149, grad=0.0000)], [Var(v=-0.1222, grad=0.0000)], [Var(v=0.0760, grad=0.0000)], [Var(v=-0.0092, grad=0.0000)], [Var(v=0.0199, grad=0.0000)], [Var(v=-0.0977, grad=0.0000)], [Var(v=0.0923, grad=0.0000)], [Var(v=-0.1789, grad=0.0000)], [Var(v=0.1306, grad=0.0000)], [Var(v=-0.0788, grad=0.0000)], [Var(v=0.1021, grad=0.0000)], [Var(v=0.0565, grad=0.0000)], [Var(v=0.0529, grad=0.0000)], [Var(v=-0.0875, grad=0.0000)], [Var(v=-0.0347, grad=0.0000)], [Var(v=0.0196, grad=0.0000)], [Var(v=-0.0270, grad=0.0000)], [Var(v=0.1428, grad=0.0000)], [Var(v=-0.0637, grad=0.0000)], [Var(v=-0.0515, grad=0.0000)], [Var(v=0.1170, grad=0.0000)], [Var(v=0.0625, grad=0.0000)], [Var(v=0.0975, grad=0.0000)], [Var(v=0.0716, grad=0.0000)], [Var(v=0.1298, grad=0.0000)], [Var(v=-0.1045, grad=0.0000)], [Var(v=-0.0960, grad=0.0000)], [Var(v=0.0447, grad=0.0000)], [Var(v=-0.0357, grad=0.0000)], [Var(v=0.0782, grad=0.0000)], [Var(v=-0.1824, grad=0.0000)], [Var(v=0.1263, grad=0.0000)], [Var(v=-0.0171, grad=0.0000)], [Var(v=-0.0324, grad=0.0000)], [Var(v=0.0991, grad=0.0000)], [Var(v=0.1897, grad=0.0000)], [Var(v=0.1055, grad=0.0000)], [Var(v=-0.0328, grad=0.0000)], [Var(v=0.0758, grad=0.0000)], [Var(v=-0.0719, grad=0.0000)], [Var(v=0.2839, grad=0.0000)], [Var(v=-0.1055, grad=0.0000)], [Var(v=0.0108, grad=0.0000)], [Var(v=0.0414, grad=0.0000)], [Var(v=-0.0459, grad=0.0000)], [Var(v=-0.0026, grad=0.0000)], [Var(v=-0.0198, grad=0.0000)]] Biases: [Var(v=0.0000, grad=0.0000)]\n"
     ]
    },
    {
     "data": {
      "text/plain": [
       "[None, None, None]"
      ]
     },
     "execution_count": 51,
     "metadata": {},
     "output_type": "execute_result"
    }
   ],
   "source": [
    "print('Network before update:')\n",
    "[print('Layer', i, '\\n', NN[i]) for i in range(len(NN))] \n",
    "\n",
    "def parameters(network):\n",
    "  params = []\n",
    "  for layer in range(len(network)):\n",
    "    params += network[layer].parameters()\n",
    "  return params\n",
    "\n",
    "def update_parameters(params, learning_rate=0.01):\n",
    "  for p in params:\n",
    "    p.v -= learning_rate*p.grad\n",
    "\n",
    "def zero_gradients(params):\n",
    "  for p in params:\n",
    "    p.grad = 0.0\n",
    "\n",
    "update_parameters(parameters(NN))\n",
    "\n",
    "print('\\nNetwork after update:')\n",
    "[print('Layer', i, '\\n', NN[i]) for i in range(len(NN))] \n",
    "\n",
    "zero_gradients(parameters(NN))\n",
    "\n",
    "print('\\nNetwork after zeroing gradients:')\n",
    "[print('Layer', i, '\\n', NN[i]) for i in range(len(NN))] "
   ]
  },
  {
   "cell_type": "code",
   "execution_count": 52,
   "metadata": {
    "id": "woWYpdw6FtIO"
   },
   "outputs": [],
   "source": [
    "# Initialize an arbitrary neural network\n",
    "NN = [\n",
    "    DenseLayer(1, 8, lambda x: x.relu()),\n",
    "    DenseLayer(8, 1, lambda x: x.identity())\n",
    "]\n",
    "\n",
    "# Recommended hyper-parameters for 3-D: \n",
    "#NN = [\n",
    "#    DenseLayer(3, 16, lambda x: x.relu()),\n",
    "#    DenseLayer(16, 1, lambda x: x.identity())\n",
    "#]\n",
    "\n",
    "\n",
    "### Notice that, when we switch from tanh to relu activation, we decrease the learning rate. This is due the stability of the gradients \n",
    "## of the activation functions."
   ]
  },
  {
   "cell_type": "code",
   "execution_count": 53,
   "metadata": {
    "id": "mdqaqYBVFtIR"
   },
   "outputs": [],
   "source": [
    "# Initialize training hyperparameters\n",
    "EPOCHS = 200\n",
    "LEARN_R = 2e-3 "
   ]
  },
  {
   "cell_type": "code",
   "execution_count": 54,
   "metadata": {
    "colab": {
     "base_uri": "https://localhost:8080/"
    },
    "id": "5kfg76GMFtIW",
    "outputId": "e30cf68a-31f2-42b4-cc5e-860c297c0f04",
    "scrolled": true
   },
   "outputs": [
    {
     "name": "stdout",
     "output_type": "stream",
     "text": [
      "   0 ( 0.00%) Train loss: 103.767 \t Validation loss: 101.733\n",
      "  10 ( 5.00%) Train loss: 24.701 \t Validation loss: 18.153\n",
      "  20 (10.00%) Train loss: 12.003 \t Validation loss: 8.963\n",
      "  30 (15.00%) Train loss: 12.001 \t Validation loss: 8.938\n",
      "  40 (20.00%) Train loss: 12.001 \t Validation loss: 8.938\n",
      "  50 (25.00%) Train loss: 12.001 \t Validation loss: 8.938\n",
      "  60 (30.00%) Train loss: 12.001 \t Validation loss: 8.938\n",
      "  70 (35.00%) Train loss: 12.001 \t Validation loss: 8.938\n",
      "  80 (40.00%) Train loss: 12.001 \t Validation loss: 8.938\n",
      "  90 (45.00%) Train loss: 12.001 \t Validation loss: 8.938\n",
      " 100 (50.00%) Train loss: 12.001 \t Validation loss: 8.938\n",
      " 110 (55.00%) Train loss: 12.001 \t Validation loss: 8.938\n",
      " 120 (60.00%) Train loss: 12.001 \t Validation loss: 8.938\n",
      " 130 (65.00%) Train loss: 12.001 \t Validation loss: 8.938\n",
      " 140 (70.00%) Train loss: 12.001 \t Validation loss: 8.938\n",
      " 150 (75.00%) Train loss: 12.001 \t Validation loss: 8.938\n",
      " 160 (80.00%) Train loss: 12.001 \t Validation loss: 8.938\n",
      " 170 (85.00%) Train loss: 12.001 \t Validation loss: 8.938\n",
      " 180 (90.00%) Train loss: 12.001 \t Validation loss: 8.938\n",
      " 190 (95.00%) Train loss: 12.001 \t Validation loss: 8.938\n"
     ]
    }
   ],
   "source": [
    "train_loss = []\n",
    "val_loss = []\n",
    "\n",
    "for e in range(EPOCHS):\n",
    "     \n",
    "    # Forward pass and loss computation\n",
    "    Loss = squared_loss(y_train, forward(x_train, NN))\n",
    "\n",
    "    # Backward pass\n",
    "    Loss.backward()\n",
    "    \n",
    "    # gradient descent update\n",
    "    update_parameters(parameters(NN), LEARN_R)\n",
    "    zero_gradients(parameters(NN))\n",
    "    \n",
    "    # Training loss\n",
    "    train_loss.append(Loss.v)\n",
    "    \n",
    "    # Validation\n",
    "    Loss_validation = squared_loss(y_validation, forward(x_validation, NN))\n",
    "    val_loss.append(Loss_validation.v)\n",
    "    \n",
    "    if e%10==0:\n",
    "        print(\"{:4d}\".format(e),\n",
    "              \"({:5.2f}%)\".format(e/EPOCHS*100), \n",
    "              \"Train loss: {:4.3f} \\t Validation loss: {:4.3f}\".format(train_loss[-1], val_loss[-1]))\n",
    "        \n"
   ]
  },
  {
   "cell_type": "code",
   "execution_count": 55,
   "metadata": {
    "colab": {
     "base_uri": "https://localhost:8080/",
     "height": 265
    },
    "id": "VetyRWFwFtIY",
    "outputId": "344e490d-6d7d-455a-fa6f-88dd11eb957e"
   },
   "outputs": [
    {
     "data": {
      "image/png": "[encoded data removed]",
      "text/plain": [
       "<Figure size 640x480 with 1 Axes>"
      ]
     },
     "metadata": {},
     "output_type": "display_data"
    }
   ],
   "source": [
    "plt.plot(range(len(train_loss)), train_loss);\n",
    "plt.plot(range(len(val_loss)), val_loss);"
   ]
  },
  {
   "cell_type": "markdown",
   "metadata": {
    "id": "8OgmIrM9FtIb"
   },
   "source": [
    "# Testing\n",
    "\n",
    "We have kept the calculation of the test error separate in order to emphasize that you should not use the test set in optimization."
   ]
  },
  {
   "cell_type": "code",
   "execution_count": 56,
   "metadata": {
    "id": "HmNi7S-vFtIc"
   },
   "outputs": [],
   "source": [
    "output_test = forward(x_test, NN)"
   ]
  },
  {
   "cell_type": "code",
   "execution_count": 57,
   "metadata": {
    "colab": {
     "base_uri": "https://localhost:8080/",
     "height": 316
    },
    "id": "7mmJOTSEFtIf",
    "outputId": "e3264095-cefe-4aee-893d-bf152438e332"
   },
   "outputs": [
    {
     "name": "stdout",
     "output_type": "stream",
     "text": [
      "Test loss:  9.305\n"
     ]
    },
    {
     "data": {
      "image/png": "[encoded data removed]",
      "text/plain": [
       "<Figure size 640x480 with 1 Axes>"
      ]
     },
     "metadata": {},
     "output_type": "display_data"
    }
   ],
   "source": [
    "y_test_np = Var_to_nparray(y_test)\n",
    "plt.scatter(y_test_np, Var_to_nparray(output_test));\n",
    "plt.plot([np.min(y_test_np), np.max(y_test_np)], [np.min(y_test_np), np.max(y_test_np)], color='k');\n",
    "plt.xlabel(\"y\");\n",
    "plt.ylabel(\"$\\hat{y}$\");\n",
    "plt.title(\"Model prediction vs real in the test set, the close to the line the better\")\n",
    "plt.grid(True);\n",
    "plt.axis('equal');\n",
    "plt.tight_layout();\n",
    "\n",
    "Loss_test = squared_loss(y_test, forward(x_test, NN))\n",
    "\n",
    "print(\"Test loss:  {:4.3f}\".format(Loss_test.v))"
   ]
  },
  {
   "cell_type": "code",
   "execution_count": 58,
   "metadata": {
    "colab": {
     "base_uri": "https://localhost:8080/",
     "height": 279
    },
    "id": "ODi0WlmQFtIh",
    "outputId": "d1ab874f-0717-4987-87bf-1f0c7c8e7148"
   },
   "outputs": [
    {
     "data": {
      "image/png": "[encoded data removed]",
      "text/plain": [
       "<Figure size 640x480 with 1 Axes>"
      ]
     },
     "metadata": {},
     "output_type": "display_data"
    }
   ],
   "source": [
    "x_test_np = Var_to_nparray(x_test)\n",
    "x_train_np = Var_to_nparray(x_train)\n",
    "y_train_np = Var_to_nparray(y_train)\n",
    "if D1:\n",
    "    plt.scatter(x_train_np, y_train_np, label=\"train data\");\n",
    "    plt.scatter(x_test_np, Var_to_nparray(output_test), label=\"test prediction\");\n",
    "    plt.scatter(x_test_np, y_test_np, label=\"test data\");\n",
    "    plt.legend();\n",
    "    plt.xlabel(\"x\");\n",
    "    plt.ylabel(\"y\");\n",
    "else:\n",
    "    plt.scatter(x_train_np[:,1], y_train, label=\"train data\");\n",
    "    plt.scatter(x_test_np[:,1], Var_to_nparray(output_test), label=\"test data prediction\");\n",
    "    plt.scatter(x_test_np[:,1], y_test_np, label=\"test data\");\n",
    "    plt.legend();\n",
    "    plt.xlabel(\"x\");\n",
    "    plt.ylabel(\"y\");"
   ]
  },
  {
   "cell_type": "markdown",
   "metadata": {
    "id": "zTBAmjsAFtIk"
   },
   "source": [
    "## Exercise l) Show overfitting, underfitting and just right fitting\n",
    "\n",
    "Vary the architecture and other things to show clear signs of overfitting (=training loss significantly lower than test loss) and underfitting (=not fitting enoung to training data so that test performance is also hurt).\n",
    "\n",
    "See also if you can get a good compromise which leads to a low validation loss. \n",
    "\n",
    "For this problem do you see any big difference between validation and test loss? The answer here will probably be no. Discuss cases where it is important to keep the two separate.\n",
    "\n",
    "_Insert written answer here._\n"
   ]
  },
  {
   "cell_type": "code",
   "execution_count": 59,
   "metadata": {
    "id": "tQZCn2dxFtIl"
   },
   "outputs": [],
   "source": [
    "# Insert your code for getting overfitting, underfitting and just right fitting"
   ]
  },
  {
   "cell_type": "markdown",
   "metadata": {
    "id": "fYPZP-eTFtIo"
   },
   "source": [
    "# Next steps - classification\n",
    "\n",
    "It is straight forward to extend what we have done to classification. \n",
    "\n",
    "For numerical stability it is better to make softmax and cross-entropy as one function so we write the cross entropy loss as a function of the logits we talked about last week. \n",
    "\n",
    "Next week we will see how to perform classification in PyTorch."
   ]
  },
  {
   "cell_type": "markdown",
   "metadata": {
    "id": "qsVPul3QFtIo"
   },
   "source": [
    "## Exercise m) optional - Implement backpropagation for classification\n",
    "\n",
    "Should be possible with very few lines of code. :-)"
   ]
  },
  {
   "cell_type": "code",
   "execution_count": 60,
   "metadata": {
    "id": "oC8QrI2tFtIp"
   },
   "outputs": [],
   "source": [
    "# Just add code."
   ]
  },
  {
   "cell_type": "markdown",
   "metadata": {
    "id": "APqhJv3tta1O"
   },
   "source": [
    "## Exercise n) optional - Introduce a NeuralNetwork class\n",
    "\n",
    "The functions we applied on the neural network (parameters, update_parameters and zero_gradients) can more naturally be included as methods in a NeuralNetwork class. Make such a class and modify the code to use it. "
   ]
  },
  {
   "cell_type": "code",
   "execution_count": 61,
   "metadata": {
    "id": "Dqfnor1ouMLq"
   },
   "outputs": [],
   "source": [
    "# just add some code"
   ]
  }
 ],
 "metadata": {
  "anaconda-cloud": {},
  "colab": {
   "collapsed_sections": [
    "U4057_ljNvWB",
    "p_8n_SKnIW2F",
    "oLrGJytZFtGm",
    "jpIZPBpNI0pO",
    "_79HOAXrFtHK",
    "mqeyab9qFtGs",
    "-XyXBD37FtHk",
    "SrwSJ2UWFtHu",
    "zTBAmjsAFtIk",
    "qsVPul3QFtIo",
    "APqhJv3tta1O"
   ],
   "name": "2.1-EXE-FNN-AutoDif-Nanograd.ipynb",
   "provenance": []
  },
  "kernelspec": {
   "display_name": "Python 3",
   "language": "python",
   "name": "python3"
  },
  "language_info": {
   "codemirror_mode": {
    "name": "ipython",
    "version": 3
   },
   "file_extension": ".py",
   "mimetype": "text/x-python",
   "name": "python",
   "nbconvert_exporter": "python",
   "pygments_lexer": "ipython3",
   "version": "3.10.12"
  }
 },
 "nbformat": 4,
 "nbformat_minor": 1
}
